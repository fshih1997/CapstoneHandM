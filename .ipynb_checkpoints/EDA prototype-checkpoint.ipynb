{
 "cells": [
  {
   "cell_type": "markdown",
   "id": "22d212f4-9ee5-4234-a738-7c423e12b8f9",
   "metadata": {},
   "source": [
    "#### For this challenge you are given the purchase history of customers across time, along with supporting metadata. Your challenge is to predict what articles each customer will purchase in the 7-day period immediately after the training data ends. Customer who did not make any purchase during that time are excluded from the scoring."
   ]
  },
  {
   "cell_type": "markdown",
   "id": "94a5b90d",
   "metadata": {},
   "source": [
    "import lib all the library necessary."
   ]
  },
  {
   "cell_type": "code",
   "execution_count": 1,
   "id": "150fb9fe",
   "metadata": {
    "tags": []
   },
   "outputs": [],
   "source": [
    "import numpy as np\n",
    "import pandas as pd\n",
    "import os\n",
    "from tqdm import tqdm\n",
    "import matplotlib.pyplot as plt\n",
    "import seaborn as sns\n",
    "# from wordcloud import WordCloud, STOPWORDS\n",
    "from datetime import datetime\n",
    "from PIL import Image\n",
    "from plotnine import *"
   ]
  },
  {
   "cell_type": "code",
   "execution_count": 2,
   "id": "4e837566",
   "metadata": {
    "tags": []
   },
   "outputs": [],
   "source": [
    "# os.getcwd()\n",
    "# os.listdir('./Dataset/HandM')"
   ]
  },
  {
   "cell_type": "code",
   "execution_count": 3,
   "id": "d3dc3dc1",
   "metadata": {
    "tags": []
   },
   "outputs": [
    {
     "name": "stdout",
     "output_type": "stream",
     "text": [
      "files and folders : ['articles.csv', 'customers.csv', 'h-and-m-personalized-fashion-recommendations.zip', 'images', 'sample_submission.csv', 'transactions_train.csv']\n"
     ]
    }
   ],
   "source": [
    "print(f\"files and folders : {os.listdir('./Dataset/HandM')}\")"
   ]
  },
  {
   "cell_type": "code",
   "execution_count": 4,
   "id": "3bf73571",
   "metadata": {
    "tags": []
   },
   "outputs": [
    {
     "name": "stdout",
     "output_type": "stream",
     "text": [
      "sub-folders inside images : ['010', '011', '012', '013', '014', '015', '016', '017', '018', '019', '020', '021', '022', '023', '024', '025', '026', '027', '028', '029', '030', '031', '032', '033', '034', '035', '036', '037', '038', '039', '040', '041', '042', '043', '044', '045', '046', '047', '048', '049', '050', '051', '052', '053', '054', '055', '056', '057', '058', '059', '060', '061', '062', '063', '064', '065', '066', '067', '068', '069', '070', '071', '072', '073', '074', '075', '076', '077', '078', '079', '080', '081', '082', '083', '084', '085', '086', '087', '088', '089', '090', '091', '092', '093', '094', '095']\n"
     ]
    }
   ],
   "source": [
    "print(f\"sub-folders inside images : {os.listdir('./Dataset/HandM/images')}\")"
   ]
  },
  {
   "cell_type": "code",
   "execution_count": 5,
   "id": "3edc02f5",
   "metadata": {
    "tags": []
   },
   "outputs": [
    {
     "name": "stdout",
     "output_type": "stream",
     "text": [
      "and there are total of  : 86\n"
     ]
    }
   ],
   "source": [
    "print(f\"and there are total of  : {len(os.listdir('./Dataset/HandM/images'))}\")"
   ]
  },
  {
   "cell_type": "code",
   "execution_count": 6,
   "id": "cf4b8aa2",
   "metadata": {
    "tags": []
   },
   "outputs": [
    {
     "name": "stderr",
     "output_type": "stream",
     "text": [
      "88it [00:00, 339.33it/s]\n"
     ]
    }
   ],
   "source": [
    "total_folders = total_files = 0\n",
    "folder_info = []\n",
    "images_names = []\n",
    "for base, dirs, files in tqdm(os.walk('./Dataset/HandM/')):\n",
    "    for directories in dirs:\n",
    "        folder_info.append((directories, len(os.listdir(os.path.join(base, directories)))))\n",
    "        total_folders += 1\n",
    "    for _files in files:\n",
    "        total_files += 1\n",
    "        if len(_files.split(\".jpg\"))==2:\n",
    "            images_names.append(_files.split(\".jpg\")[0])"
   ]
  },
  {
   "cell_type": "code",
   "execution_count": 7,
   "id": "8aef6c8a",
   "metadata": {
    "tags": []
   },
   "outputs": [
    {
     "name": "stdout",
     "output_type": "stream",
     "text": [
      "Total number of folders: 87\n",
      "Total number of files: 105105\n"
     ]
    }
   ],
   "source": [
    "print(f\"Total number of folders: {total_folders}\\nTotal number of files: {total_files}\")"
   ]
  },
  {
   "cell_type": "code",
   "execution_count": 8,
   "id": "45adc0f7",
   "metadata": {
    "tags": []
   },
   "outputs": [],
   "source": [
    "folder_info_df = pd.DataFrame(folder_info,columns=[\"folder_name\",\"files_count\"])\n",
    "folder_info_df = folder_info_df.drop(0)"
   ]
  },
  {
   "cell_type": "code",
   "execution_count": 9,
   "id": "1dacbe2f",
   "metadata": {
    "tags": []
   },
   "outputs": [
    {
     "data": {
      "text/html": [
       "<div>\n",
       "<style scoped>\n",
       "    .dataframe tbody tr th:only-of-type {\n",
       "        vertical-align: middle;\n",
       "    }\n",
       "\n",
       "    .dataframe tbody tr th {\n",
       "        vertical-align: top;\n",
       "    }\n",
       "\n",
       "    .dataframe thead th {\n",
       "        text-align: right;\n",
       "    }\n",
       "</style>\n",
       "<table border=\"1\" class=\"dataframe\">\n",
       "  <thead>\n",
       "    <tr style=\"text-align: right;\">\n",
       "      <th></th>\n",
       "      <th>folder_name</th>\n",
       "      <th>files_count</th>\n",
       "    </tr>\n",
       "  </thead>\n",
       "  <tbody>\n",
       "    <tr>\n",
       "      <th>60</th>\n",
       "      <td>069</td>\n",
       "      <td>4187</td>\n",
       "    </tr>\n",
       "    <tr>\n",
       "      <th>64</th>\n",
       "      <td>073</td>\n",
       "      <td>3438</td>\n",
       "    </tr>\n",
       "    <tr>\n",
       "      <th>53</th>\n",
       "      <td>062</td>\n",
       "      <td>3361</td>\n",
       "    </tr>\n",
       "    <tr>\n",
       "      <th>59</th>\n",
       "      <td>068</td>\n",
       "      <td>3313</td>\n",
       "    </tr>\n",
       "    <tr>\n",
       "      <th>61</th>\n",
       "      <td>070</td>\n",
       "      <td>3309</td>\n",
       "    </tr>\n",
       "  </tbody>\n",
       "</table>\n",
       "</div>"
      ],
      "text/plain": [
       "   folder_name  files_count\n",
       "60         069         4187\n",
       "64         073         3438\n",
       "53         062         3361\n",
       "59         068         3313\n",
       "61         070         3309"
      ]
     },
     "execution_count": 9,
     "metadata": {},
     "output_type": "execute_result"
    }
   ],
   "source": [
    "folder_info_df.sort_values(by='files_count',ascending=False).head()"
   ]
  },
  {
   "cell_type": "markdown",
   "id": "a8135bfd",
   "metadata": {},
   "source": [
    "please find out what is inside the folder and give the number its proper name"
   ]
  },
  {
   "cell_type": "code",
   "execution_count": 10,
   "id": "0705b374",
   "metadata": {},
   "outputs": [],
   "source": [
    "articles_df = pd.read_csv(\"./Dataset/HandM/articles.csv\")\n",
    "customers_df = pd.read_csv(\"./Dataset/HandM/customers.csv\")\n",
    "sample_submission_df = pd.read_csv(\"./Dataset/HandM/sample_submission.csv\")"
   ]
  },
  {
   "cell_type": "markdown",
   "id": "7177749a-53c2-4cf4-bbf2-d041742e7cd2",
   "metadata": {},
   "source": [
    "##### percent_missing within article_df"
   ]
  },
  {
   "cell_type": "code",
   "execution_count": 11,
   "id": "89162805-2d50-4c1e-9d6b-0a3a251a0277",
   "metadata": {
    "jupyter": {
     "source_hidden": true
    },
    "tags": []
   },
   "outputs": [
    {
     "name": "stdout",
     "output_type": "stream",
     "text": [
      "                              percent_missing\n",
      "article_id                           0.000000\n",
      "product_code                         0.000000\n",
      "prod_name                            0.000000\n",
      "product_type_no                      0.000000\n",
      "product_type_name                    0.000000\n",
      "product_group_name                   0.000000\n",
      "graphical_appearance_no              0.000000\n",
      "graphical_appearance_name            0.000000\n",
      "colour_group_code                    0.000000\n",
      "colour_group_name                    0.000000\n",
      "perceived_colour_value_id            0.000000\n",
      "perceived_colour_value_name          0.000000\n",
      "perceived_colour_master_id           0.000000\n",
      "perceived_colour_master_name         0.000000\n",
      "department_no                        0.000000\n",
      "department_name                      0.000000\n",
      "index_code                           0.000000\n",
      "index_name                           0.000000\n",
      "index_group_no                       0.000000\n",
      "index_group_name                     0.000000\n",
      "section_no                           0.000000\n",
      "section_name                         0.000000\n",
      "garment_group_no                     0.000000\n",
      "garment_group_name                   0.000000\n",
      "detail_desc                          0.394156\n"
     ]
    }
   ],
   "source": [
    "percent_missing = articles_df.isnull().sum() * 100 / len(articles_df)\n",
    "missing_value_df = pd.DataFrame({'percent_missing': percent_missing})\n",
    "print(missing_value_df)"
   ]
  },
  {
   "cell_type": "markdown",
   "id": "2ef0a7f6-4520-4834-a203-94a90ea31d5c",
   "metadata": {},
   "source": [
    "Percent missing for cutomer dataframe"
   ]
  },
  {
   "cell_type": "code",
   "execution_count": 12,
   "id": "dc6f5f74-7c26-4e1a-8aff-1c7cb87ac1e2",
   "metadata": {
    "jupyter": {
     "source_hidden": true
    },
    "tags": []
   },
   "outputs": [
    {
     "name": "stdout",
     "output_type": "stream",
     "text": [
      "                        percent_missing\n",
      "customer_id                    0.000000\n",
      "FN                            65.237831\n",
      "Active                        66.150819\n",
      "club_member_status             0.441843\n",
      "fashion_news_frequency         1.166854\n",
      "age                            1.156066\n",
      "postal_code                    0.000000\n"
     ]
    }
   ],
   "source": [
    "percent_missing = customers_df.isnull().sum() * 100 / len(customers_df)\n",
    "missing_value_df = pd.DataFrame({'percent_missing': percent_missing})\n",
    "print(missing_value_df)"
   ]
  },
  {
   "cell_type": "code",
   "execution_count": 13,
   "id": "70419da4-0bac-4f8d-b1f8-17f3abbbc914",
   "metadata": {
    "tags": []
   },
   "outputs": [
    {
     "data": {
      "text/plain": [
       "105542"
      ]
     },
     "execution_count": 13,
     "metadata": {},
     "output_type": "execute_result"
    }
   ],
   "source": [
    "articles_df.shape[0]"
   ]
  },
  {
   "cell_type": "code",
   "execution_count": 14,
   "id": "62e09cdc",
   "metadata": {
    "tags": []
   },
   "outputs": [
    {
     "data": {
      "text/plain": [
       "Index(['article_id', 'product_code', 'prod_name', 'product_type_no',\n",
       "       'product_type_name', 'product_group_name', 'graphical_appearance_no',\n",
       "       'graphical_appearance_name', 'colour_group_code', 'colour_group_name',\n",
       "       'perceived_colour_value_id', 'perceived_colour_value_name',\n",
       "       'perceived_colour_master_id', 'perceived_colour_master_name',\n",
       "       'department_no', 'department_name', 'index_code', 'index_name',\n",
       "       'index_group_no', 'index_group_name', 'section_no', 'section_name',\n",
       "       'garment_group_no', 'garment_group_name', 'detail_desc'],\n",
       "      dtype='object')"
      ]
     },
     "execution_count": 14,
     "metadata": {},
     "output_type": "execute_result"
    }
   ],
   "source": [
    "articles_df.columns"
   ]
  },
  {
   "cell_type": "markdown",
   "id": "7eb4aa28-daec-4a16-8ba4-b3174412d2f3",
   "metadata": {},
   "source": [
    "I created a table that consist the product information "
   ]
  },
  {
   "cell_type": "code",
   "execution_count": 15,
   "id": "173c6a79-2446-48e1-9370-ae9812d28261",
   "metadata": {
    "tags": []
   },
   "outputs": [
    {
     "data": {
      "text/html": [
       "<div>\n",
       "<style scoped>\n",
       "    .dataframe tbody tr th:only-of-type {\n",
       "        vertical-align: middle;\n",
       "    }\n",
       "\n",
       "    .dataframe tbody tr th {\n",
       "        vertical-align: top;\n",
       "    }\n",
       "\n",
       "    .dataframe thead th {\n",
       "        text-align: right;\n",
       "    }\n",
       "</style>\n",
       "<table border=\"1\" class=\"dataframe\">\n",
       "  <thead>\n",
       "    <tr style=\"text-align: right;\">\n",
       "      <th></th>\n",
       "      <th>product_code</th>\n",
       "      <th>prod_name</th>\n",
       "      <th>product_type_no</th>\n",
       "      <th>product_type_name</th>\n",
       "      <th>product_group_name</th>\n",
       "    </tr>\n",
       "  </thead>\n",
       "  <tbody>\n",
       "    <tr>\n",
       "      <th>0</th>\n",
       "      <td>108775</td>\n",
       "      <td>Strap top</td>\n",
       "      <td>253</td>\n",
       "      <td>Vest top</td>\n",
       "      <td>Garment Upper body</td>\n",
       "    </tr>\n",
       "    <tr>\n",
       "      <th>1</th>\n",
       "      <td>108775</td>\n",
       "      <td>Strap top</td>\n",
       "      <td>253</td>\n",
       "      <td>Vest top</td>\n",
       "      <td>Garment Upper body</td>\n",
       "    </tr>\n",
       "    <tr>\n",
       "      <th>2</th>\n",
       "      <td>108775</td>\n",
       "      <td>Strap top (1)</td>\n",
       "      <td>253</td>\n",
       "      <td>Vest top</td>\n",
       "      <td>Garment Upper body</td>\n",
       "    </tr>\n",
       "    <tr>\n",
       "      <th>3</th>\n",
       "      <td>110065</td>\n",
       "      <td>OP T-shirt (Idro)</td>\n",
       "      <td>306</td>\n",
       "      <td>Bra</td>\n",
       "      <td>Underwear</td>\n",
       "    </tr>\n",
       "    <tr>\n",
       "      <th>4</th>\n",
       "      <td>110065</td>\n",
       "      <td>OP T-shirt (Idro)</td>\n",
       "      <td>306</td>\n",
       "      <td>Bra</td>\n",
       "      <td>Underwear</td>\n",
       "    </tr>\n",
       "  </tbody>\n",
       "</table>\n",
       "</div>"
      ],
      "text/plain": [
       "   product_code          prod_name  product_type_no product_type_name  \\\n",
       "0        108775          Strap top              253          Vest top   \n",
       "1        108775          Strap top              253          Vest top   \n",
       "2        108775      Strap top (1)              253          Vest top   \n",
       "3        110065  OP T-shirt (Idro)              306               Bra   \n",
       "4        110065  OP T-shirt (Idro)              306               Bra   \n",
       "\n",
       "   product_group_name  \n",
       "0  Garment Upper body  \n",
       "1  Garment Upper body  \n",
       "2  Garment Upper body  \n",
       "3           Underwear  \n",
       "4           Underwear  "
      ]
     },
     "execution_count": 15,
     "metadata": {},
     "output_type": "execute_result"
    }
   ],
   "source": [
    "#potentially encode group the following group \n",
    "product_specs = articles_df[['product_code', 'prod_name', 'product_type_no','product_type_name', 'product_group_name']]\n",
    "product_specs.head()"
   ]
  },
  {
   "cell_type": "code",
   "execution_count": 16,
   "id": "bfef77ce-2606-4873-8429-b772444cff4e",
   "metadata": {},
   "outputs": [
    {
     "data": {
      "text/html": [
       "<div>\n",
       "<style scoped>\n",
       "    .dataframe tbody tr th:only-of-type {\n",
       "        vertical-align: middle;\n",
       "    }\n",
       "\n",
       "    .dataframe tbody tr th {\n",
       "        vertical-align: top;\n",
       "    }\n",
       "\n",
       "    .dataframe thead th {\n",
       "        text-align: right;\n",
       "    }\n",
       "</style>\n",
       "<table border=\"1\" class=\"dataframe\">\n",
       "  <thead>\n",
       "    <tr style=\"text-align: right;\">\n",
       "      <th></th>\n",
       "      <th>product_type_no</th>\n",
       "      <th>type_count</th>\n",
       "    </tr>\n",
       "  </thead>\n",
       "  <tbody>\n",
       "    <tr>\n",
       "      <th>0</th>\n",
       "      <td>272</td>\n",
       "      <td>11169</td>\n",
       "    </tr>\n",
       "    <tr>\n",
       "      <th>1</th>\n",
       "      <td>265</td>\n",
       "      <td>10362</td>\n",
       "    </tr>\n",
       "  </tbody>\n",
       "</table>\n",
       "</div>"
      ],
      "text/plain": [
       "   product_type_no  type_count\n",
       "0              272       11169\n",
       "1              265       10362"
      ]
     },
     "execution_count": 16,
     "metadata": {},
     "output_type": "execute_result"
    }
   ],
   "source": [
    "product_type_count = articles_df.groupby(by=[\"product_type_no\"])['product_type_name'].count().sort_values(ascending=False)\n",
    "# product_type_count.head()\n",
    "product_type_count = product_type_count.reset_index()\n",
    "product_type_count.columns =['product_type_no', 'type_count']\n",
    "product_type_count.head(2)"
   ]
  },
  {
   "cell_type": "code",
   "execution_count": 17,
   "id": "bf5bbe21-028a-42fa-9862-a280de577262",
   "metadata": {
    "tags": []
   },
   "outputs": [
    {
     "data": {
      "text/html": [
       "<div>\n",
       "<style scoped>\n",
       "    .dataframe tbody tr th:only-of-type {\n",
       "        vertical-align: middle;\n",
       "    }\n",
       "\n",
       "    .dataframe tbody tr th {\n",
       "        vertical-align: top;\n",
       "    }\n",
       "\n",
       "    .dataframe thead th {\n",
       "        text-align: right;\n",
       "    }\n",
       "</style>\n",
       "<table border=\"1\" class=\"dataframe\">\n",
       "  <thead>\n",
       "    <tr style=\"text-align: right;\">\n",
       "      <th></th>\n",
       "      <th>product_type_no</th>\n",
       "      <th>product_type_name</th>\n",
       "    </tr>\n",
       "  </thead>\n",
       "  <tbody>\n",
       "    <tr>\n",
       "      <th>16</th>\n",
       "      <td>272</td>\n",
       "      <td>Trousers</td>\n",
       "    </tr>\n",
       "  </tbody>\n",
       "</table>\n",
       "</div>"
      ],
      "text/plain": [
       "    product_type_no product_type_name\n",
       "16              272          Trousers"
      ]
     },
     "execution_count": 17,
     "metadata": {},
     "output_type": "execute_result"
    }
   ],
   "source": [
    "type_name = articles_df[['product_type_no', 'product_type_name']]\n",
    "type_name = type_name.drop_duplicates('product_type_no')\n",
    "type_name.loc[type_name['product_type_name'] == 'Trousers']"
   ]
  },
  {
   "cell_type": "code",
   "execution_count": 18,
   "id": "5d842927-c901-4d1e-999c-1b99896d91e7",
   "metadata": {},
   "outputs": [
    {
     "data": {
      "text/html": [
       "<div>\n",
       "<style scoped>\n",
       "    .dataframe tbody tr th:only-of-type {\n",
       "        vertical-align: middle;\n",
       "    }\n",
       "\n",
       "    .dataframe tbody tr th {\n",
       "        vertical-align: top;\n",
       "    }\n",
       "\n",
       "    .dataframe thead th {\n",
       "        text-align: right;\n",
       "    }\n",
       "</style>\n",
       "<table border=\"1\" class=\"dataframe\">\n",
       "  <thead>\n",
       "    <tr style=\"text-align: right;\">\n",
       "      <th></th>\n",
       "      <th>product_type_no</th>\n",
       "      <th>type_count</th>\n",
       "    </tr>\n",
       "  </thead>\n",
       "  <tbody>\n",
       "    <tr>\n",
       "      <th>0</th>\n",
       "      <td>272</td>\n",
       "      <td>11169</td>\n",
       "    </tr>\n",
       "  </tbody>\n",
       "</table>\n",
       "</div>"
      ],
      "text/plain": [
       "   product_type_no  type_count\n",
       "0              272       11169"
      ]
     },
     "execution_count": 18,
     "metadata": {},
     "output_type": "execute_result"
    }
   ],
   "source": [
    "product_type_count.loc[product_type_count['product_type_no'] == 272]"
   ]
  },
  {
   "cell_type": "code",
   "execution_count": 19,
   "id": "b6bdcb7d-9e28-4335-aa7c-afb0b9ccdb07",
   "metadata": {},
   "outputs": [],
   "source": [
    "product_type_count = product_type_count.merge(type_name,on='product_type_no', how='left')"
   ]
  },
  {
   "cell_type": "code",
   "execution_count": 20,
   "id": "027f90a6-9c2d-40fc-8976-f7b6aba709a0",
   "metadata": {},
   "outputs": [
    {
     "data": {
      "text/html": [
       "<div>\n",
       "<style scoped>\n",
       "    .dataframe tbody tr th:only-of-type {\n",
       "        vertical-align: middle;\n",
       "    }\n",
       "\n",
       "    .dataframe tbody tr th {\n",
       "        vertical-align: top;\n",
       "    }\n",
       "\n",
       "    .dataframe thead th {\n",
       "        text-align: right;\n",
       "    }\n",
       "</style>\n",
       "<table border=\"1\" class=\"dataframe\">\n",
       "  <thead>\n",
       "    <tr style=\"text-align: right;\">\n",
       "      <th></th>\n",
       "      <th>product_type_no</th>\n",
       "      <th>type_count</th>\n",
       "      <th>product_type_name</th>\n",
       "    </tr>\n",
       "  </thead>\n",
       "  <tbody>\n",
       "    <tr>\n",
       "      <th>0</th>\n",
       "      <td>272</td>\n",
       "      <td>11169</td>\n",
       "      <td>Trousers</td>\n",
       "    </tr>\n",
       "    <tr>\n",
       "      <th>1</th>\n",
       "      <td>265</td>\n",
       "      <td>10362</td>\n",
       "      <td>Dress</td>\n",
       "    </tr>\n",
       "  </tbody>\n",
       "</table>\n",
       "</div>"
      ],
      "text/plain": [
       "   product_type_no  type_count product_type_name\n",
       "0              272       11169          Trousers\n",
       "1              265       10362             Dress"
      ]
     },
     "execution_count": 20,
     "metadata": {},
     "output_type": "execute_result"
    }
   ],
   "source": [
    "product_type_count.head(2)"
   ]
  },
  {
   "cell_type": "code",
   "execution_count": 21,
   "id": "d939d36a-9e56-496e-9be3-cc8f38be4c23",
   "metadata": {},
   "outputs": [
    {
     "data": {
      "text/html": [
       "<div>\n",
       "<style scoped>\n",
       "    .dataframe tbody tr th:only-of-type {\n",
       "        vertical-align: middle;\n",
       "    }\n",
       "\n",
       "    .dataframe tbody tr th {\n",
       "        vertical-align: top;\n",
       "    }\n",
       "\n",
       "    .dataframe thead th {\n",
       "        text-align: right;\n",
       "    }\n",
       "</style>\n",
       "<table border=\"1\" class=\"dataframe\">\n",
       "  <thead>\n",
       "    <tr style=\"text-align: right;\">\n",
       "      <th></th>\n",
       "      <th>product_type_no</th>\n",
       "      <th>type_count</th>\n",
       "      <th>product_type_name</th>\n",
       "    </tr>\n",
       "  </thead>\n",
       "  <tbody>\n",
       "    <tr>\n",
       "      <th>0</th>\n",
       "      <td>272</td>\n",
       "      <td>11169</td>\n",
       "      <td>Trousers</td>\n",
       "    </tr>\n",
       "    <tr>\n",
       "      <th>1</th>\n",
       "      <td>265</td>\n",
       "      <td>10362</td>\n",
       "      <td>Dress</td>\n",
       "    </tr>\n",
       "    <tr>\n",
       "      <th>2</th>\n",
       "      <td>252</td>\n",
       "      <td>9302</td>\n",
       "      <td>Sweater</td>\n",
       "    </tr>\n",
       "    <tr>\n",
       "      <th>3</th>\n",
       "      <td>255</td>\n",
       "      <td>7904</td>\n",
       "      <td>T-shirt</td>\n",
       "    </tr>\n",
       "    <tr>\n",
       "      <th>4</th>\n",
       "      <td>254</td>\n",
       "      <td>4155</td>\n",
       "      <td>Top</td>\n",
       "    </tr>\n",
       "    <tr>\n",
       "      <th>...</th>\n",
       "      <td>...</td>\n",
       "      <td>...</td>\n",
       "      <td>...</td>\n",
       "    </tr>\n",
       "    <tr>\n",
       "      <th>127</th>\n",
       "      <td>492</td>\n",
       "      <td>1</td>\n",
       "      <td>Washing bag</td>\n",
       "    </tr>\n",
       "    <tr>\n",
       "      <th>128</th>\n",
       "      <td>468</td>\n",
       "      <td>1</td>\n",
       "      <td>Bumbag</td>\n",
       "    </tr>\n",
       "    <tr>\n",
       "      <th>129</th>\n",
       "      <td>483</td>\n",
       "      <td>1</td>\n",
       "      <td>Clothing mist</td>\n",
       "    </tr>\n",
       "    <tr>\n",
       "      <th>130</th>\n",
       "      <td>489</td>\n",
       "      <td>1</td>\n",
       "      <td>Sewing kit</td>\n",
       "    </tr>\n",
       "    <tr>\n",
       "      <th>131</th>\n",
       "      <td>464</td>\n",
       "      <td>1</td>\n",
       "      <td>Pre-walkers</td>\n",
       "    </tr>\n",
       "  </tbody>\n",
       "</table>\n",
       "<p>132 rows × 3 columns</p>\n",
       "</div>"
      ],
      "text/plain": [
       "     product_type_no  type_count product_type_name\n",
       "0                272       11169          Trousers\n",
       "1                265       10362             Dress\n",
       "2                252        9302           Sweater\n",
       "3                255        7904           T-shirt\n",
       "4                254        4155               Top\n",
       "..               ...         ...               ...\n",
       "127              492           1       Washing bag\n",
       "128              468           1            Bumbag\n",
       "129              483           1     Clothing mist\n",
       "130              489           1        Sewing kit\n",
       "131              464           1       Pre-walkers\n",
       "\n",
       "[132 rows x 3 columns]"
      ]
     },
     "execution_count": 21,
     "metadata": {},
     "output_type": "execute_result"
    }
   ],
   "source": [
    "product_type_count.sort_values(by='type_count',ascending=False)"
   ]
  },
  {
   "cell_type": "code",
   "execution_count": 22,
   "id": "56456b5b-aeaf-4708-a113-e910ef4493a7",
   "metadata": {},
   "outputs": [
    {
     "data": {
      "image/png": "[encoded data removed]",
      "text/plain": [
       "<Figure size 640x480 with 1 Axes>"
      ]
     },
     "metadata": {},
     "output_type": "display_data"
    },
    {
     "data": {
      "text/plain": [
       "<ggplot: (183757745143)>"
      ]
     },
     "execution_count": 22,
     "metadata": {},
     "output_type": "execute_result"
    }
   ],
   "source": [
    "(ggplot(product_type_count.head(10), aes('reorder(product_type_name, type_count)','type_count'))\n",
    "        + geom_col())"
   ]
  },
  {
   "cell_type": "code",
   "execution_count": 23,
   "id": "f7e4213a-cd93-4035-a25f-3bebeb33bf0b",
   "metadata": {},
   "outputs": [
    {
     "data": {
      "text/plain": [
       "(132, 3)"
      ]
     },
     "execution_count": 23,
     "metadata": {},
     "output_type": "execute_result"
    }
   ],
   "source": [
    "product_type_count.shape"
   ]
  },
  {
   "cell_type": "code",
   "execution_count": 24,
   "id": "5b2a81b5-ebfc-420d-8685-a0ce5f6a4b7a",
   "metadata": {},
   "outputs": [
    {
     "data": {
      "text/plain": [
       "38737"
      ]
     },
     "execution_count": 24,
     "metadata": {},
     "output_type": "execute_result"
    }
   ],
   "source": [
    "product_type_count.iloc[0:4].type_count.sum()"
   ]
  },
  {
   "cell_type": "code",
   "execution_count": 25,
   "id": "13061d91-4423-496e-816d-84600ebbc462",
   "metadata": {},
   "outputs": [
    {
     "data": {
      "text/plain": [
       "(105542, 25)"
      ]
     },
     "execution_count": 25,
     "metadata": {},
     "output_type": "execute_result"
    }
   ],
   "source": [
    "articles_df.shape"
   ]
  },
  {
   "cell_type": "code",
   "execution_count": 26,
   "id": "07fc0f2d-601c-46a8-9ab7-85462213f445",
   "metadata": {},
   "outputs": [
    {
     "data": {
      "text/plain": [
       "0.3670292395444468"
      ]
     },
     "execution_count": 26,
     "metadata": {},
     "output_type": "execute_result"
    }
   ],
   "source": [
    "38737 / 105542"
   ]
  },
  {
   "cell_type": "markdown",
   "id": "933894e0-f2e3-4bb9-ad28-ba093b925a6c",
   "metadata": {},
   "source": [
    "foudn out the Top of articles type are always 40% of entire sale. "
   ]
  },
  {
   "cell_type": "code",
   "execution_count": 27,
   "id": "b6401dea-f3b4-42e5-a80a-dba411c89372",
   "metadata": {},
   "outputs": [
    {
     "data": {
      "text/plain": [
       "Index(['article_id', 'product_code', 'prod_name', 'product_type_no',\n",
       "       'product_type_name', 'product_group_name', 'graphical_appearance_no',\n",
       "       'graphical_appearance_name', 'colour_group_code', 'colour_group_name',\n",
       "       'perceived_colour_value_id', 'perceived_colour_value_name',\n",
       "       'perceived_colour_master_id', 'perceived_colour_master_name',\n",
       "       'department_no', 'department_name', 'index_code', 'index_name',\n",
       "       'index_group_no', 'index_group_name', 'section_no', 'section_name',\n",
       "       'garment_group_no', 'garment_group_name', 'detail_desc'],\n",
       "      dtype='object')"
      ]
     },
     "execution_count": 27,
     "metadata": {},
     "output_type": "execute_result"
    }
   ],
   "source": [
    "articles_df.columns"
   ]
  },
  {
   "cell_type": "code",
   "execution_count": 28,
   "id": "71e429d1-e20e-4a42-9fe4-17c10f679079",
   "metadata": {},
   "outputs": [
    {
     "data": {
      "text/plain": [
       "array(['Garment Upper body', 'Underwear', 'Socks & Tights',\n",
       "       'Garment Lower body', 'Accessories', 'Items', 'Nightwear',\n",
       "       'Unknown', 'Underwear/nightwear', 'Shoes', 'Swimwear',\n",
       "       'Garment Full body', 'Cosmetic', 'Interior textile', 'Bags',\n",
       "       'Furniture', 'Garment and Shoe care', 'Fun', 'Stationery'],\n",
       "      dtype=object)"
      ]
     },
     "execution_count": 28,
     "metadata": {},
     "output_type": "execute_result"
    }
   ],
   "source": [
    "articles_df.product_group_name.unique()"
   ]
  },
  {
   "cell_type": "code",
   "execution_count": 29,
   "id": "f5820089-d2b1-4677-9d99-a5b87eb787d6",
   "metadata": {},
   "outputs": [
    {
     "data": {
      "text/plain": [
       "0                   Solid\n",
       "1                   Solid\n",
       "2                  Stripe\n",
       "3                   Solid\n",
       "4                   Solid\n",
       "               ...       \n",
       "105537    Placement print\n",
       "105538              Solid\n",
       "105539              Solid\n",
       "105540              Solid\n",
       "105541              Solid\n",
       "Name: graphical_appearance_name, Length: 105542, dtype: object"
      ]
     },
     "execution_count": 29,
     "metadata": {},
     "output_type": "execute_result"
    }
   ],
   "source": [
    "articles_df.graphical_appearance_name"
   ]
  },
  {
   "cell_type": "code",
   "execution_count": 30,
   "id": "4bca5c0d-c694-4608-8064-45453fb130c5",
   "metadata": {},
   "outputs": [],
   "source": [
    "product_group_count = articles_df.groupby(by=[\"product_group_name\"])['article_id'].count().sort_values(ascending=False).reset_index()\n",
    "product_group_count.columns = ['product_group_name', 'count']"
   ]
  },
  {
   "cell_type": "code",
   "execution_count": 31,
   "id": "f013d7e3-cfd4-4bdf-a10d-2d1c4cdd9af1",
   "metadata": {},
   "outputs": [
    {
     "data": {
      "text/html": [
       "<div>\n",
       "<style scoped>\n",
       "    .dataframe tbody tr th:only-of-type {\n",
       "        vertical-align: middle;\n",
       "    }\n",
       "\n",
       "    .dataframe tbody tr th {\n",
       "        vertical-align: top;\n",
       "    }\n",
       "\n",
       "    .dataframe thead th {\n",
       "        text-align: right;\n",
       "    }\n",
       "</style>\n",
       "<table border=\"1\" class=\"dataframe\">\n",
       "  <thead>\n",
       "    <tr style=\"text-align: right;\">\n",
       "      <th></th>\n",
       "      <th>product_group_name</th>\n",
       "      <th>count</th>\n",
       "    </tr>\n",
       "  </thead>\n",
       "  <tbody>\n",
       "    <tr>\n",
       "      <th>0</th>\n",
       "      <td>Garment Upper body</td>\n",
       "      <td>42741</td>\n",
       "    </tr>\n",
       "    <tr>\n",
       "      <th>1</th>\n",
       "      <td>Garment Lower body</td>\n",
       "      <td>19812</td>\n",
       "    </tr>\n",
       "    <tr>\n",
       "      <th>2</th>\n",
       "      <td>Garment Full body</td>\n",
       "      <td>13292</td>\n",
       "    </tr>\n",
       "    <tr>\n",
       "      <th>3</th>\n",
       "      <td>Accessories</td>\n",
       "      <td>11158</td>\n",
       "    </tr>\n",
       "    <tr>\n",
       "      <th>4</th>\n",
       "      <td>Underwear</td>\n",
       "      <td>5490</td>\n",
       "    </tr>\n",
       "  </tbody>\n",
       "</table>\n",
       "</div>"
      ],
      "text/plain": [
       "   product_group_name  count\n",
       "0  Garment Upper body  42741\n",
       "1  Garment Lower body  19812\n",
       "2   Garment Full body  13292\n",
       "3         Accessories  11158\n",
       "4           Underwear   5490"
      ]
     },
     "execution_count": 31,
     "metadata": {},
     "output_type": "execute_result"
    }
   ],
   "source": [
    "product_group_count.head()"
   ]
  },
  {
   "cell_type": "code",
   "execution_count": 32,
   "id": "00547bc7-8f44-4d3f-87c7-99228af2f60d",
   "metadata": {},
   "outputs": [
    {
     "data": {
      "image/png": "[encoded data removed]",
      "text/plain": [
       "<Figure size 640x480 with 1 Axes>"
      ]
     },
     "metadata": {},
     "output_type": "display_data"
    },
    {
     "data": {
      "text/plain": [
       "<ggplot: (183760140340)>"
      ]
     },
     "execution_count": 32,
     "metadata": {},
     "output_type": "execute_result"
    }
   ],
   "source": [
    "(ggplot(product_group_count.head(10), aes('reorder(product_group_name, count)','count'))\n",
    "        + geom_col()\n",
    "        + theme(axis_text_x=element_text(rotation=90, hjust=1))\n",
    ")"
   ]
  },
  {
   "cell_type": "code",
   "execution_count": 33,
   "id": "ccab7354-58dc-4347-8763-f7ee91fe3442",
   "metadata": {},
   "outputs": [
    {
     "data": {
      "text/plain": [
       "105542"
      ]
     },
     "execution_count": 33,
     "metadata": {},
     "output_type": "execute_result"
    }
   ],
   "source": [
    "product_group_count['count'].sum()"
   ]
  },
  {
   "cell_type": "code",
   "execution_count": 34,
   "id": "1cfd5470-7b84-43ef-9f69-35c7fae5e484",
   "metadata": {},
   "outputs": [
    {
     "data": {
      "text/plain": [
       "0.4049667430975346"
      ]
     },
     "execution_count": 34,
     "metadata": {},
     "output_type": "execute_result"
    }
   ],
   "source": [
    "product_group_count['count'][0] / product_group_count['count'].sum()"
   ]
  },
  {
   "cell_type": "code",
   "execution_count": 35,
   "id": "e0859f5e-8ad0-44c3-bb69-dc4b71aaf679",
   "metadata": {},
   "outputs": [
    {
     "data": {
      "text/plain": [
       "0     0.404967\n",
       "1     0.187717\n",
       "2     0.125940\n",
       "3     0.105721\n",
       "4     0.052017\n",
       "5     0.050056\n",
       "6     0.029628\n",
       "7     0.023138\n",
       "8     0.017993\n",
       "9     0.001146\n",
       "10    0.000512\n",
       "11    0.000464\n",
       "12    0.000237\n",
       "13    0.000161\n",
       "14    0.000123\n",
       "15    0.000085\n",
       "16    0.000047\n",
       "17    0.000028\n",
       "18    0.000019\n",
       "Name: count, dtype: float64"
      ]
     },
     "execution_count": 35,
     "metadata": {},
     "output_type": "execute_result"
    }
   ],
   "source": [
    "product_group_count['count'] / product_group_count['count'].sum()"
   ]
  },
  {
   "cell_type": "code",
   "execution_count": null,
   "id": "f2405212-8b1c-455b-a495-5384d7074b8d",
   "metadata": {},
   "outputs": [],
   "source": []
  },
  {
   "cell_type": "code",
   "execution_count": 36,
   "id": "d1e7862f-0354-4e27-98f0-f9074b20df9f",
   "metadata": {},
   "outputs": [
    {
     "data": {
      "text/html": [
       "<div>\n",
       "<style scoped>\n",
       "    .dataframe tbody tr th:only-of-type {\n",
       "        vertical-align: middle;\n",
       "    }\n",
       "\n",
       "    .dataframe tbody tr th {\n",
       "        vertical-align: top;\n",
       "    }\n",
       "\n",
       "    .dataframe thead th {\n",
       "        text-align: right;\n",
       "    }\n",
       "</style>\n",
       "<table border=\"1\" class=\"dataframe\">\n",
       "  <thead>\n",
       "    <tr style=\"text-align: right;\">\n",
       "      <th></th>\n",
       "      <th>Product_Type</th>\n",
       "      <th>Articles</th>\n",
       "    </tr>\n",
       "  </thead>\n",
       "  <tbody>\n",
       "    <tr>\n",
       "      <th>112</th>\n",
       "      <td>Trousers</td>\n",
       "      <td>11169</td>\n",
       "    </tr>\n",
       "    <tr>\n",
       "      <th>32</th>\n",
       "      <td>Dress</td>\n",
       "      <td>10362</td>\n",
       "    </tr>\n",
       "    <tr>\n",
       "      <th>100</th>\n",
       "      <td>Sweater</td>\n",
       "      <td>9302</td>\n",
       "    </tr>\n",
       "    <tr>\n",
       "      <th>105</th>\n",
       "      <td>T-shirt</td>\n",
       "      <td>7904</td>\n",
       "    </tr>\n",
       "    <tr>\n",
       "      <th>108</th>\n",
       "      <td>Top</td>\n",
       "      <td>4155</td>\n",
       "    </tr>\n",
       "    <tr>\n",
       "      <th>...</th>\n",
       "      <td>...</td>\n",
       "      <td>...</td>\n",
       "    </tr>\n",
       "    <tr>\n",
       "      <th>16</th>\n",
       "      <td>Bra extender</td>\n",
       "      <td>1</td>\n",
       "    </tr>\n",
       "    <tr>\n",
       "      <th>9</th>\n",
       "      <td>Blanket</td>\n",
       "      <td>1</td>\n",
       "    </tr>\n",
       "    <tr>\n",
       "      <th>110</th>\n",
       "      <td>Towel</td>\n",
       "      <td>1</td>\n",
       "    </tr>\n",
       "    <tr>\n",
       "      <th>129</th>\n",
       "      <td>Wood balls</td>\n",
       "      <td>1</td>\n",
       "    </tr>\n",
       "    <tr>\n",
       "      <th>29</th>\n",
       "      <td>Cushion</td>\n",
       "      <td>1</td>\n",
       "    </tr>\n",
       "  </tbody>\n",
       "</table>\n",
       "<p>131 rows × 2 columns</p>\n",
       "</div>"
      ],
      "text/plain": [
       "     Product_Type  Articles\n",
       "112      Trousers     11169\n",
       "32          Dress     10362\n",
       "100       Sweater      9302\n",
       "105       T-shirt      7904\n",
       "108           Top      4155\n",
       "..            ...       ...\n",
       "16   Bra extender         1\n",
       "9         Blanket         1\n",
       "110         Towel         1\n",
       "129    Wood balls         1\n",
       "29        Cushion         1\n",
       "\n",
       "[131 rows x 2 columns]"
      ]
     },
     "execution_count": 36,
     "metadata": {},
     "output_type": "execute_result"
    }
   ],
   "source": [
    "temp = articles_df.groupby([\"product_type_name\"])[\"article_id\"].nunique()\n",
    "df = pd.DataFrame({'Product_Type': temp.index,\n",
    "                   'Articles': temp.values\n",
    "                  })\n",
    "df = df.sort_values(['Articles'], ascending=False)\n",
    "df"
   ]
  },
  {
   "cell_type": "code",
   "execution_count": 37,
   "id": "deda20e3-d81b-4a87-b0cb-887eaa7eebff",
   "metadata": {},
   "outputs": [
    {
     "data": {
      "image/png": "[encoded data removed]",
      "text/plain": [
       "<Figure size 640x480 with 1 Axes>"
      ]
     },
     "metadata": {},
     "output_type": "display_data"
    },
    {
     "data": {
      "text/plain": [
       "<ggplot: (183760227636)>"
      ]
     },
     "execution_count": 37,
     "metadata": {},
     "output_type": "execute_result"
    }
   ],
   "source": [
    "(ggplot(df.head(20), aes('reorder(Product_Type, Articles)','Articles'))\n",
    "        + geom_col()\n",
    "        + theme(axis_text_x=element_text(rotation=90, hjust=1))\n",
    ")"
   ]
  },
  {
   "cell_type": "code",
   "execution_count": 38,
   "id": "67fbfc2c-82a3-4295-be75-476b90a73856",
   "metadata": {},
   "outputs": [
    {
     "data": {
      "text/plain": [
       "Index(['article_id', 'product_code', 'prod_name', 'product_type_no',\n",
       "       'product_type_name', 'product_group_name', 'graphical_appearance_no',\n",
       "       'graphical_appearance_name', 'colour_group_code', 'colour_group_name',\n",
       "       'perceived_colour_value_id', 'perceived_colour_value_name',\n",
       "       'perceived_colour_master_id', 'perceived_colour_master_name',\n",
       "       'department_no', 'department_name', 'index_code', 'index_name',\n",
       "       'index_group_no', 'index_group_name', 'section_no', 'section_name',\n",
       "       'garment_group_no', 'garment_group_name', 'detail_desc'],\n",
       "      dtype='object')"
      ]
     },
     "execution_count": 38,
     "metadata": {},
     "output_type": "execute_result"
    }
   ],
   "source": [
    "articles_df.columns"
   ]
  },
  {
   "cell_type": "code",
   "execution_count": 39,
   "id": "bb466971-3597-4f48-9111-ee2e259ea29f",
   "metadata": {
    "jupyter": {
     "source_hidden": true
    },
    "tags": []
   },
   "outputs": [
    {
     "data": {
      "text/plain": [
       "array(['Ladieswear', 'Lingeries/Tights', 'Baby Sizes 50-98', 'Menswear',\n",
       "       'Ladies Accessories', 'Sport', 'Children Sizes 92-140', 'Divided',\n",
       "       'Children Sizes 134-170', 'Children Accessories, Swimwear'],\n",
       "      dtype=object)"
      ]
     },
     "execution_count": 39,
     "metadata": {},
     "output_type": "execute_result"
    }
   ],
   "source": [
    "articles_df.index_name.unique()"
   ]
  },
  {
   "cell_type": "markdown",
   "id": "30b596e5-4533-462b-b3aa-0511d326c986",
   "metadata": {},
   "source": [
    "https://www.kaggle.com/lichtlab/h-m-data-deep-dive-chap-1-understand-article\n",
    "\n",
    "suggest these are the divided articles. \n",
    "\n",
    "Ladieswear, Divided, Menswear, Baby/Children, and Sport\n"
   ]
  },
  {
   "cell_type": "code",
   "execution_count": 40,
   "id": "f96a7ecf-9e43-451b-95d5-08ff7804ff6f",
   "metadata": {
    "jupyter": {
     "source_hidden": true
    },
    "tags": []
   },
   "outputs": [
    {
     "data": {
      "text/plain": [
       "array(['Jersey Basic', 'Clean Lingerie', 'Tights basic', 'Baby basics',\n",
       "       'Casual Lingerie', 'Jersey', 'EQ & Special Collections',\n",
       "       'Hair Accessories', 'Other items', 'Baby Nightwear',\n",
       "       'Men Sport Woven', 'Men Sport Bottoms', 'Kids Boy Denim',\n",
       "       'Shopbasket Socks', 'Socks', 'UW', 'Young Girl Jersey Basic',\n",
       "       'Jacket Street', 'Belts', 'Divided Shoes', 'Swimwear',\n",
       "       'Underwear Jersey', 'Basic 1', 'Tops Knitwear DS', 'Men Sport Acc',\n",
       "       'Kids Boy Jersey Basic', 'Young Girl UW/NW', 'Shirt', 'Nightwear',\n",
       "       'Trouser', 'Small Accessories', 'Sunglasses', 'Gloves/Hats',\n",
       "       'Knit & Woven', 'Basics', 'Accessories', 'Jewellery',\n",
       "       'Jersey Fancy DS', 'Trousers DS', 'Bags', 'Blazer S&T', 'Knitwear',\n",
       "       'Woven bottoms', 'Shorts', 'Dresses DS', 'Expressive Lingerie',\n",
       "       'Kids Girl UW/NW', 'Young Boy Jersey Basic', 'Kids Girl S&T',\n",
       "       'Young Girl S&T', 'Shoes / Boots inactive from s5', 'Nursing',\n",
       "       'Jersey Fancy', 'Shoes', 'Functional Lingerie', 'Men Sport Tops',\n",
       "       'Other Accessories', 'Young Boy Trouser', 'Outdoor/Blazers DS',\n",
       "       'Mama Lingerie', 'Socks Bin', 'Denim Other Garments',\n",
       "       'Everyday Waredrobe Denim', 'Trousers', 'Denim Trousers',\n",
       "       'Outdoor/Blazers', 'Young Boy Denim', 'Scarves', 'Dresses',\n",
       "       'Skirts', 'Kids Girl Jersey Basic', 'Baby Socks',\n",
       "       'Trousers & Skirt', 'Young Boy Shirt', 'Kids Girl Big Acc',\n",
       "       'Young Girl Denim', 'Flats', 'Baby Toys/Acc', 'Projects Dresses',\n",
       "       'Denim shorts', 'Jersey inactive from s1', 'Promotion/Other/Offer',\n",
       "       'Bags & Items', 'Small Bags', 'Trouser S&T', 'Shirt S&T',\n",
       "       'Woven Tops', 'Denim trousers', 'Young Girl Knitwear', 'Outwear',\n",
       "       'Knitwear inactive from s1', 'Projects Woven Tops',\n",
       "       'Projects Jersey & Knitwear',\n",
       "       'Denim wardrobe H&M man inactive from S.6', 'Baby Boy Outdoor',\n",
       "       'Premium Quality', 'Woven inactive from s1', 'Tops woven DS',\n",
       "       'Newborn', 'Skirt', 'Jersey License', 'Jewellery Extended',\n",
       "       'Light Basic Jersey', 'Suit Extended inactive from s1',\n",
       "       'Young Boy UW/NW', 'Tops Knitwear', 'Kids Boy Socks',\n",
       "       'Young Boy Socks', 'Outdoor inactive from s1',\n",
       "       'Kids Girl Swimwear', 'Young Girl Swimwear', 'Ladies Sport Bras',\n",
       "       'Ladies Sport Bottoms', 'Jersey fancy', 'Blazer', 'Baby Boy Woven',\n",
       "       'Kids Boy Swimwear', 'Young boy Swimwear',\n",
       "       'Kids Dress-up/Football', 'Sneakers small girl inactive from s2',\n",
       "       'Tops Woven', 'Blouse', 'Shorts DS', 'Boots', 'Kids Boy Big Acc',\n",
       "       'Boys Small Acc & Bags', 'Woven top', 'Young Girl Dresses',\n",
       "       'Knitwear Basic', 'Sneakers', 'Dress', 'Baby Girl Woven',\n",
       "       'Baby Girl Jersey Fancy', 'Jacket Casual', 'Kids Boy UW/NW',\n",
       "       'Ladies Sport Acc', 'Kids Girl Jersey Fancy', 'Baby Exclusive',\n",
       "       'Young Boy Shorts', 'EQ Divided Basics', 'Shorts & Skirts',\n",
       "       'Promotion/ Other /Offer', 'Kids Boy Trouser', 'Tops Fancy Jersey',\n",
       "       'Kids Girl Knitwear', 'Kids Boy Jersey Fancy', 'Heels',\n",
       "       'Woven Premium', 'Blouse & Dress', 'Kids Girl Trouser',\n",
       "       'Kids Girl Dresses', 'Projects Woven Bottoms',\n",
       "       'Conscious Exclusive', 'Shoes Other', 'Kids Girl Outdoor',\n",
       "       'Skirts DS', 'Young Girl Jersey Fancy', 'Young Boy Outdoor',\n",
       "       'Young Girl Outdoor', 'Woven Occasion', 'Kids Boy Outdoor',\n",
       "       'Young Boy Jersey Fancy', 'Kids Boy Shoes', 'Ladies Sport Woven',\n",
       "       'Bottoms Girls', 'Tops Girls', 'Young Girl Big Acc',\n",
       "       'Young Boy Shoes', 'Young Boy Knitwear', 'Suit', 'Kids Girl Shoes',\n",
       "       'Jacket Smart', 'Projects', 'Kids Boy Knitwear',\n",
       "       'Woven bottoms inactive from S.7', 'Jersey/Knitwear Premium',\n",
       "       'Sneakers big girl inactive from s2', 'Suit jacket',\n",
       "       'Kids Boy Shirt', 'Jacket', 'Kids Girl Denim',\n",
       "       'Young Girl Trouser', 'Girls Small Acc/Bags',\n",
       "       'Shirt Extended inactive from s1', 'Tops Boys',\n",
       "       'Baby Girl Knitwear', 'Baby Shoes', 'Jackets', 'Jersey Occasion',\n",
       "       'Young Boy Big Acc', 'Kids Girl License', 'Baby Boy Jersey Fancy',\n",
       "       'Bottoms Boys', 'Local relevance', 'Dress-up Boys',\n",
       "       'Small Acc. Jewellery & Other', 'Baby Boy Knitwear',\n",
       "       'Equatorial Assortment', 'Loungewear', 'Studio Collection',\n",
       "       'Woven', 'Outwear & Blazers',\n",
       "       'Underwear Jersey Fancy inactive from s1', 'Special Collection',\n",
       "       'Take Care External', 'Equatorial', 'Divided+',\n",
       "       'OL Extended Sizes', 'Campaigns', 'Underwear Woven',\n",
       "       'Heavy Basic Jersey', 'EQ H&M Man', 'Young Girl Shoes', 'AK Other',\n",
       "       'Kids Boy Shorts', 'Bottoms', 'Shopbasket Lingerie',\n",
       "       'Kids Boy License', 'Baby Girl Outdoor',\n",
       "       'Promotion / Other / Offer', 'Divided+ inactive from s.1',\n",
       "       'Tops & Bottoms Other', 'Take care', 'Girls Local Relevance',\n",
       "       'AK Dresses & Outdoor', 'Limited Edition',\n",
       "       'AK Tops Jersey & Woven', 'AK Tops Knitwear', 'Divided Swimwear',\n",
       "       'AK Bottoms', 'Girls Projects', 'On Demand', 'Test Ladies',\n",
       "       'Socks Wall', 'Jersey inactive from S.6', 'Boys Local Relevance',\n",
       "       'License', 'Price Items', 'Asia Assortment', 'Accessories Boys',\n",
       "       'Read & React', 'EQ Ladies Denim', 'Small Accessories Extended',\n",
       "       'Baby Boy Local Relevance', 'Kids Girl Exclusive',\n",
       "       'Baby Girl Local Relevance', 'EQ Divided Blue',\n",
       "       'Kids Boy Exclusive', 'Accessories Other', 'Blanks'], dtype=object)"
      ]
     },
     "execution_count": 40,
     "metadata": {},
     "output_type": "execute_result"
    }
   ],
   "source": [
    "articles_df.department_name.unique()"
   ]
  },
  {
   "cell_type": "code",
   "execution_count": 41,
   "id": "4f923beb-e4e2-41d1-86e5-718fc126fbc2",
   "metadata": {},
   "outputs": [],
   "source": [
    "def set_gender_flg(x):\n",
    "    x['is_for_male'] = 0\n",
    "    x['is_for_female'] = 0\n",
    "    x['is_for_mama'] = 0\n",
    "    if x['index_group_name'] in ['Ladieswear','Divided']:\n",
    "        x['is_for_female'] = 1\n",
    "    if x['index_group_name'] == 'Menswear':\n",
    "        x['is_for_male'] = 1\n",
    "    if x['index_group_name'] in ['Baby/Children','Sport']:\n",
    "        if 'boy' in x['department_name'].lower() or 'men' in x['department_name'].lower():\n",
    "            x['is_for_male'] = 1\n",
    "        if 'girl' in x['department_name'].lower() or 'ladies' in x['department_name'].lower():\n",
    "            x['is_for_female'] = 1\n",
    "    if x['section_name'] == 'Mama':\n",
    "        x['is_for_mama'] = 1\n",
    "    return x\n",
    "\n"
   ]
  },
  {
   "cell_type": "code",
   "execution_count": 42,
   "id": "f29c05dc-ae62-434a-8667-8a7fb54e37dd",
   "metadata": {},
   "outputs": [
    {
     "data": {
      "image/png": "[encoded data removed]",
      "text/plain": [
       "<Figure size 576x432 with 1 Axes>"
      ]
     },
     "metadata": {
      "needs_background": "light"
     },
     "output_type": "display_data"
    }
   ],
   "source": [
    "temp = articles_df.groupby([\"product_group_name\"])[\"article_id\"].nunique()\n",
    "df = pd.DataFrame({'Product Group': temp.index,\n",
    "                   'Articles': temp.values\n",
    "                  })\n",
    "df = df.sort_values(['Articles'], ascending=False)\n",
    "plt.figure(figsize = (8,6))\n",
    "plt.title('Number of Articles per each Product Group')\n",
    "sns.set_color_codes(\"deep\")\n",
    "s = sns.barplot(x = 'Product Group', y=\"Articles\", data=df)\n",
    "s.set_xticklabels(s.get_xticklabels(),rotation=90)\n",
    "locs, labels = plt.xticks()\n",
    "plt.show()"
   ]
  },
  {
   "cell_type": "code",
   "execution_count": 43,
   "id": "99fe70ea-3af6-4305-90f8-3630edc8a0fe",
   "metadata": {},
   "outputs": [
    {
     "data": {
      "text/html": [
       "<div>\n",
       "<style scoped>\n",
       "    .dataframe tbody tr th:only-of-type {\n",
       "        vertical-align: middle;\n",
       "    }\n",
       "\n",
       "    .dataframe tbody tr th {\n",
       "        vertical-align: top;\n",
       "    }\n",
       "\n",
       "    .dataframe thead th {\n",
       "        text-align: right;\n",
       "    }\n",
       "</style>\n",
       "<table border=\"1\" class=\"dataframe\">\n",
       "  <thead>\n",
       "    <tr style=\"text-align: right;\">\n",
       "      <th></th>\n",
       "      <th>Product Group</th>\n",
       "      <th>Articles</th>\n",
       "    </tr>\n",
       "  </thead>\n",
       "  <tbody>\n",
       "    <tr>\n",
       "      <th>7</th>\n",
       "      <td>Garment Upper body</td>\n",
       "      <td>42741</td>\n",
       "    </tr>\n",
       "    <tr>\n",
       "      <th>6</th>\n",
       "      <td>Garment Lower body</td>\n",
       "      <td>19812</td>\n",
       "    </tr>\n",
       "    <tr>\n",
       "      <th>5</th>\n",
       "      <td>Garment Full body</td>\n",
       "      <td>13292</td>\n",
       "    </tr>\n",
       "    <tr>\n",
       "      <th>0</th>\n",
       "      <td>Accessories</td>\n",
       "      <td>11158</td>\n",
       "    </tr>\n",
       "    <tr>\n",
       "      <th>16</th>\n",
       "      <td>Underwear</td>\n",
       "      <td>5490</td>\n",
       "    </tr>\n",
       "  </tbody>\n",
       "</table>\n",
       "</div>"
      ],
      "text/plain": [
       "         Product Group  Articles\n",
       "7   Garment Upper body     42741\n",
       "6   Garment Lower body     19812\n",
       "5    Garment Full body     13292\n",
       "0          Accessories     11158\n",
       "16           Underwear      5490"
      ]
     },
     "execution_count": 43,
     "metadata": {},
     "output_type": "execute_result"
    }
   ],
   "source": [
    "df.head()"
   ]
  },
  {
   "cell_type": "code",
   "execution_count": 44,
   "id": "a166621e-7df7-401a-a8f6-4b57678ea665",
   "metadata": {},
   "outputs": [
    {
     "data": {
      "image/png": "[encoded data removed]",
      "text/plain": [
       "<Figure size 1440x432 with 1 Axes>"
      ]
     },
     "metadata": {
      "needs_background": "light"
     },
     "output_type": "display_data"
    }
   ],
   "source": [
    "temp = articles_df.groupby([\"product_type_name\"])[\"article_id\"].nunique()\n",
    "df = pd.DataFrame({'Product Type': temp.index,\n",
    "                   'Articles': temp.values\n",
    "                  })\n",
    "total_types = len(df['Product Type'].unique())\n",
    "df = df.sort_values(['Articles'], ascending=False)[0:60]\n",
    "plt.figure(figsize = (20,6))\n",
    "plt.title(f'Number of Articles per each Product Type (top 50 from total: {total_types})')\n",
    "sns.set_color_codes(\"pastel\")\n",
    "s = sns.barplot(x = 'Product Type', y=\"Articles\", data=df)\n",
    "s.set_xticklabels(s.get_xticklabels(),rotation=90)\n",
    "locs, labels = plt.xticks()\n",
    "plt.show()"
   ]
  },
  {
   "cell_type": "code",
   "execution_count": 46,
   "id": "d1575fb1-df2e-4047-a412-98e68fd14c89",
   "metadata": {},
   "outputs": [
    {
     "ename": "ModuleNotFoundError",
     "evalue": "No module named 'plotly'",
     "output_type": "error",
     "traceback": [
      "\u001b[1;31m---------------------------------------------------------------------------\u001b[0m",
      "\u001b[1;31mModuleNotFoundError\u001b[0m                       Traceback (most recent call last)",
      "\u001b[1;32m~\\AppData\\Local\\Temp/ipykernel_4260/2285225196.py\u001b[0m in \u001b[0;36m<module>\u001b[1;34m\u001b[0m\n\u001b[1;32m----> 1\u001b[1;33m \u001b[1;32mimport\u001b[0m \u001b[0mplotly\u001b[0m\u001b[1;33m.\u001b[0m\u001b[0mexpress\u001b[0m \u001b[1;32mas\u001b[0m \u001b[0mpx\u001b[0m\u001b[1;33m\u001b[0m\u001b[1;33m\u001b[0m\u001b[0m\n\u001b[0m\u001b[0;32m      2\u001b[0m \u001b[0mlabel\u001b[0m \u001b[1;33m=\u001b[0m \u001b[0marticle_df\u001b[0m\u001b[1;33m.\u001b[0m\u001b[0mindex_group_name\u001b[0m\u001b[1;33m.\u001b[0m\u001b[0munique\u001b[0m\u001b[1;33m(\u001b[0m\u001b[1;33m)\u001b[0m\u001b[1;33m\u001b[0m\u001b[1;33m\u001b[0m\u001b[0m\n\u001b[0;32m      3\u001b[0m \u001b[0mcount\u001b[0m \u001b[1;33m=\u001b[0m \u001b[0marticle_df\u001b[0m\u001b[1;33m.\u001b[0m\u001b[0mindex_group_name\u001b[0m\u001b[1;33m.\u001b[0m\u001b[0mvalue_counts\u001b[0m\u001b[1;33m(\u001b[0m\u001b[1;33m)\u001b[0m\u001b[1;33m\u001b[0m\u001b[1;33m\u001b[0m\u001b[0m\n\u001b[0;32m      4\u001b[0m \u001b[0mfig\u001b[0m \u001b[1;33m=\u001b[0m \u001b[0mpx\u001b[0m\u001b[1;33m.\u001b[0m\u001b[0mpie\u001b[0m\u001b[1;33m(\u001b[0m\u001b[0marticle_df\u001b[0m\u001b[1;33m,\u001b[0m \u001b[0mvalues\u001b[0m\u001b[1;33m=\u001b[0m\u001b[0mcount\u001b[0m\u001b[1;33m,\u001b[0m \u001b[0mnames\u001b[0m\u001b[1;33m=\u001b[0m\u001b[0mlabel\u001b[0m\u001b[1;33m,\u001b[0m\u001b[0mcolor_discrete_sequence\u001b[0m\u001b[1;33m=\u001b[0m\u001b[0mpx\u001b[0m\u001b[1;33m.\u001b[0m\u001b[0mcolors\u001b[0m\u001b[1;33m.\u001b[0m\u001b[0msequential\u001b[0m\u001b[1;33m.\u001b[0m\u001b[0mPurpor\u001b[0m\u001b[1;33m)\u001b[0m\u001b[1;33m\u001b[0m\u001b[1;33m\u001b[0m\u001b[0m\n\u001b[0;32m      5\u001b[0m \u001b[0mfig\u001b[0m\u001b[1;33m.\u001b[0m\u001b[0mshow\u001b[0m\u001b[1;33m(\u001b[0m\u001b[1;33m)\u001b[0m\u001b[1;33m\u001b[0m\u001b[1;33m\u001b[0m\u001b[0m\n",
      "\u001b[1;31mModuleNotFoundError\u001b[0m: No module named 'plotly'"
     ]
    }
   ],
   "source": [
    "import plotly.express as px\n",
    "label = article_df.index_group_name.unique()\n",
    "count = article_df.index_group_name.value_counts()\n",
    "fig = px.pie(article_df, values=count, names=label,color_discrete_sequence=px.colors.sequential.Purpor)\n",
    "fig.show()"
   ]
  },
  {
   "cell_type": "code",
   "execution_count": 47,
   "id": "854c05e5-56cb-4679-9c09-ffc866bc9a72",
   "metadata": {},
   "outputs": [
    {
     "name": "stdout",
     "output_type": "stream",
     "text": [
      "Collecting plotly\n",
      "  Downloading plotly-5.6.0-py2.py3-none-any.whl (27.7 MB)\n",
      "Collecting tenacity>=6.2.0\n",
      "  Downloading tenacity-8.0.1-py3-none-any.whl (24 kB)\n",
      "Requirement already satisfied: six in c:\\users\\19095\\anaconda3\\lib\\site-packages (from plotly) (1.16.0)\n",
      "Installing collected packages: tenacity, plotly\n",
      "Successfully installed plotly-5.6.0 tenacity-8.0.1\n"
     ]
    }
   ],
   "source": [
    "!pip install plotly\n"
   ]
  },
  {
   "cell_type": "code",
   "execution_count": null,
   "id": "209ba7ba-5a2e-4410-bea0-7ca369db5739",
   "metadata": {},
   "outputs": [],
   "source": []
  }
 ],
 "metadata": {
  "kernelspec": {
   "display_name": "Python 3 (ipykernel)",
   "language": "python",
   "name": "python3"
  },
  "language_info": {
   "codemirror_mode": {
    "name": "ipython",
    "version": 3
   },
   "file_extension": ".py",
   "mimetype": "text/x-python",
   "name": "python",
   "nbconvert_exporter": "python",
   "pygments_lexer": "ipython3",
   "version": "3.9.7"
  }
 },
 "nbformat": 4,
 "nbformat_minor": 5
}
