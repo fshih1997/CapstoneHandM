{
 "cells": [
  {
   "cell_type": "markdown",
   "metadata": {},
   "source": [
    "my first notebook\n",
    "\n",
    "thank you DANIIL KARPOV https://www.kaggle.com/code/vanguarde/h-m-eda-first-look for giving me all the inspiration"
   ]
  },
  {
   "cell_type": "markdown",
   "metadata": {},
   "source": [
    "## **<span style=\"color:#008000;font-size:490%\"><center>EDA</center></span><span style=\"color:#008000;font-size:200%\"><center>Exploratory Data Analysis. H&M</center></span>**"
   ]
  },
  {
   "attachments": {
    "263a5724-ec87-4151-86a2-a85966720b76.png": {
     "image/png": "[encoded data removed]"
    }
   },
   "cell_type": "markdown",
   "metadata": {},
   "source": [
    "# Introduction\n",
    "\n",
    "For this challenge you are given the purchase history of customers across time, along with supporting metadata. Your challenge is to predict what articles each customer will purchase in the 7-day period immediately after the training data ends. Customer who did not make any purchase during that time are excluded from the scoring.\n",
    "\n",
    "\n",
    "The dataset contains 4 csv files and one folder with several subfolders, each with a different number of images.\n",
    "\n",
    "In this Exploratory Data Analysis Notebook we will look to the data, will analyze the content of each csv file, check for missing data, understand the data distribution, see what are the relations between data in various files.\n",
    "\n",
    "We will also explore the image data, understand how images are indexed in the csv files, if there are articles in the dataset without images. We will also explore image additional information, like image width and height.\n",
    "\n",
    "We also investigate a very simple baseline model and create an initial submission.\n",
    "\n",
    "For baseline model I migth use weekly bestsellers. \n",
    "\n",
    "![image.png](attachment:263a5724-ec87-4151-86a2-a85966720b76.png)"
   ]
  },
  {
   "attachments": {
    "58798c57-524a-45c9-b7cc-6f4f6925a0dd.png": {
     "image/png": "[encoded data removed]"
    }
   },
   "cell_type": "markdown",
   "metadata": {
    "execution": {
     "iopub.execute_input": "2022-05-21T06:21:47.767448Z",
     "iopub.status.busy": "2022-05-21T06:21:47.766942Z",
     "iopub.status.idle": "2022-05-21T06:21:47.796318Z",
     "shell.execute_reply": "2022-05-21T06:21:47.794693Z",
     "shell.execute_reply.started": "2022-05-21T06:21:47.767333Z"
    }
   },
   "source": [
    "# Analysis preparation\n",
    "\n",
    "We will include here the required packages for reading, parsing, filtering, processing, visualizing the data, both tabular and image.\n",
    "\n",
    "![image.png](attachment:58798c57-524a-45c9-b7cc-6f4f6925a0dd.png)\n"
   ]
  },
  {
   "cell_type": "code",
   "execution_count": 1,
   "metadata": {
    "execution": {
     "iopub.execute_input": "2022-08-03T15:33:44.876220Z",
     "iopub.status.busy": "2022-08-03T15:33:44.875682Z",
     "iopub.status.idle": "2022-08-03T15:33:48.341739Z",
     "shell.execute_reply": "2022-08-03T15:33:48.340767Z",
     "shell.execute_reply.started": "2022-08-03T15:33:44.876121Z"
    }
   },
   "outputs": [],
   "source": [
    "import numpy as np\n",
    "import pandas as pd\n",
    "import os\n",
    "from tqdm import tqdm\n",
    "import matplotlib.pyplot as plt\n",
    "import seaborn as sns\n",
    "# from wordcloud import WordCloud, STOPWORDS\n",
    "from datetime import datetime\n",
    "from PIL import Image\n",
    "from plotnine import *"
   ]
  },
  {
   "cell_type": "code",
   "execution_count": 2,
   "metadata": {},
   "outputs": [],
   "source": [
    "file_path = \"../Dataset/\""
   ]
  },
  {
   "cell_type": "code",
   "execution_count": 3,
   "metadata": {
    "execution": {
     "iopub.execute_input": "2022-08-03T15:33:48.344621Z",
     "iopub.status.busy": "2022-08-03T15:33:48.344376Z",
     "iopub.status.idle": "2022-08-03T15:35:01.824987Z",
     "shell.execute_reply": "2022-08-03T15:35:01.824024Z",
     "shell.execute_reply.started": "2022-08-03T15:33:48.344590Z"
    }
   },
   "outputs": [],
   "source": [
    "articles = pd.read_csv(file_path + \"articles.csv\")\n",
    "customers = pd.read_csv(file_path + \"customers.csv\")\n",
    "transactions = pd.read_csv(file_path + \"transactions_train.csv\")"
   ]
  },
  {
   "cell_type": "markdown",
   "metadata": {},
   "source": [
    "### first lets go through the articles that is selling on H&M"
   ]
  },
  {
   "cell_type": "code",
   "execution_count": 4,
   "metadata": {
    "execution": {
     "iopub.execute_input": "2022-08-03T15:35:01.826299Z",
     "iopub.status.busy": "2022-08-03T15:35:01.826071Z",
     "iopub.status.idle": "2022-08-03T15:35:01.834814Z",
     "shell.execute_reply": "2022-08-03T15:35:01.833627Z",
     "shell.execute_reply.started": "2022-08-03T15:35:01.826268Z"
    }
   },
   "outputs": [
    {
     "data": {
      "text/plain": [
       "25"
      ]
     },
     "execution_count": 4,
     "metadata": {},
     "output_type": "execute_result"
    }
   ],
   "source": [
    "len(articles.columns)"
   ]
  },
  {
   "cell_type": "markdown",
   "metadata": {},
   "source": [
    "So we have in total of 25 columns. What are they? what are their characters?"
   ]
  },
  {
   "cell_type": "code",
   "execution_count": 5,
   "metadata": {
    "execution": {
     "iopub.execute_input": "2022-08-03T15:35:01.837215Z",
     "iopub.status.busy": "2022-08-03T15:35:01.836846Z",
     "iopub.status.idle": "2022-08-03T15:35:01.849619Z",
     "shell.execute_reply": "2022-08-03T15:35:01.848587Z",
     "shell.execute_reply.started": "2022-08-03T15:35:01.837182Z"
    }
   },
   "outputs": [
    {
     "data": {
      "text/plain": [
       "Index(['article_id', 'product_code', 'prod_name', 'product_type_no',\n",
       "       'product_type_name', 'product_group_name', 'graphical_appearance_no',\n",
       "       'graphical_appearance_name', 'colour_group_code', 'colour_group_name',\n",
       "       'perceived_colour_value_id', 'perceived_colour_value_name',\n",
       "       'perceived_colour_master_id', 'perceived_colour_master_name',\n",
       "       'department_no', 'department_name', 'index_code', 'index_name',\n",
       "       'index_group_no', 'index_group_name', 'section_no', 'section_name',\n",
       "       'garment_group_no', 'garment_group_name', 'detail_desc'],\n",
       "      dtype='object')"
      ]
     },
     "execution_count": 5,
     "metadata": {},
     "output_type": "execute_result"
    }
   ],
   "source": [
    "articles.columns"
   ]
  },
  {
   "cell_type": "markdown",
   "metadata": {},
   "source": [
    "article_id : A unique identifier of every article.\n",
    "\n",
    "product_code, prod_name : A unique identifier of every product and its name (not the same).\n",
    "\n",
    "product_type, product_type_name : The group of product_code and its name\n",
    "\n",
    "graphical_appearance_no, graphical_appearance_name : The group of graphics and its name\n",
    "\n",
    "colour_group_code, colour_group_name : The group of color and its name\n",
    "\n",
    "perceived_colour_value_id, perceived_colour_value_name, perceived_colour_master_id, perceived_colour_master_name : The added color info\n",
    "\n",
    "department_no, department_name: : A unique identifier of every dep and its name\n",
    "\n",
    "index_code, index_name: : A unique identifier of every index and its name\n",
    "\n",
    "index_group_no, index_group_name: : A group of indeces and its name\n",
    "\n",
    "section_no, section_name: : A unique identifier of every section and its name\n",
    "\n",
    "garment_group_no, garment_group_name: : A unique identifier of every garment and its name\n",
    "\n",
    "detail_desc: : Details"
   ]
  },
  {
   "cell_type": "markdown",
   "metadata": {},
   "source": [
    "I notice that all of the data here is categorical / index for each feature. \n",
    "\n",
    "So Let's do some question and answer style to think about this data!"
   ]
  },
  {
   "cell_type": "markdown",
   "metadata": {},
   "source": [
    "clean up the data for a little bit. I first want to get rid of colinearity on all columns."
   ]
  },
  {
   "cell_type": "code",
   "execution_count": 6,
   "metadata": {
    "execution": {
     "iopub.execute_input": "2022-08-03T15:35:01.851057Z",
     "iopub.status.busy": "2022-08-03T15:35:01.850816Z",
     "iopub.status.idle": "2022-08-03T15:35:01.862996Z",
     "shell.execute_reply": "2022-08-03T15:35:01.862102Z",
     "shell.execute_reply.started": "2022-08-03T15:35:01.851026Z"
    }
   },
   "outputs": [],
   "source": [
    "from sklearn.base import BaseEstimator, TransformerMixin\n",
    "import numpy as np\n",
    "\n",
    "# https://www.kaggle.com/c/h-and-m-personalized-fashion-recommendations/discussion/308635\n",
    "def customer_hex_id_to_int(series):\n",
    "    return series.str[-16:].apply(hex_id_to_int)\n",
    "\n",
    "def hex_id_to_int(str):\n",
    "    return int(str[-16:], 16)\n",
    "\n",
    "def article_id_str_to_int(series):\n",
    "    return series.astype('int32')\n",
    "\n",
    "def article_id_int_to_str(series):\n",
    "    return '0' + series.astype('str')\n",
    "\n",
    "class Categorize(BaseEstimator, TransformerMixin):\n",
    "    def __init__(self, min_examples=0):\n",
    "        self.min_examples = min_examples\n",
    "        self.categories = []\n",
    "        \n",
    "    def fit(self, X):\n",
    "        for i in range(X.shape[1]):\n",
    "            vc = X.iloc[:, i].value_counts()\n",
    "            self.categories.append(vc[vc > self.min_examples].index.tolist())\n",
    "        return self\n",
    "\n",
    "    def transform(self, X):\n",
    "        data = {X.columns[i]: pd.Categorical(X.iloc[:, i], categories=self.categories[i]).codes for i in range(X.shape[1])}\n",
    "        return pd.DataFrame(data=data)"
   ]
  },
  {
   "cell_type": "code",
   "execution_count": 7,
   "metadata": {
    "execution": {
     "iopub.execute_input": "2022-08-03T15:35:01.864623Z",
     "iopub.status.busy": "2022-08-03T15:35:01.864070Z",
     "iopub.status.idle": "2022-08-03T15:35:01.884349Z",
     "shell.execute_reply": "2022-08-03T15:35:01.883645Z",
     "shell.execute_reply.started": "2022-08-03T15:35:01.864581Z"
    }
   },
   "outputs": [],
   "source": [
    "articles.article_id = article_id_str_to_int(articles.article_id)"
   ]
  },
  {
   "cell_type": "code",
   "execution_count": 8,
   "metadata": {
    "execution": {
     "iopub.execute_input": "2022-08-03T15:35:01.886421Z",
     "iopub.status.busy": "2022-08-03T15:35:01.885895Z",
     "iopub.status.idle": "2022-08-03T15:35:01.901762Z",
     "shell.execute_reply": "2022-08-03T15:35:01.900990Z",
     "shell.execute_reply.started": "2022-08-03T15:35:01.886351Z"
    }
   },
   "outputs": [],
   "source": [
    "encoded_articles = articles.copy()"
   ]
  },
  {
   "cell_type": "code",
   "execution_count": 9,
   "metadata": {
    "execution": {
     "iopub.execute_input": "2022-08-03T15:35:01.903764Z",
     "iopub.status.busy": "2022-08-03T15:35:01.902963Z",
     "iopub.status.idle": "2022-08-03T15:35:02.341531Z",
     "shell.execute_reply": "2022-08-03T15:35:02.340747Z",
     "shell.execute_reply.started": "2022-08-03T15:35:01.903730Z"
    }
   },
   "outputs": [],
   "source": [
    "for col in encoded_articles.columns:\n",
    "    if encoded_articles[col].dtype == 'object':\n",
    "        encoded_articles[col] = Categorize().fit_transform(articles[[col]])[col]\n",
    "\n",
    "for col in encoded_articles.columns:\n",
    "    if encoded_articles[col].dtype == 'int64':\n",
    "        encoded_articles[col] = encoded_articles[col].astype('int32')"
   ]
  },
  {
   "cell_type": "code",
   "execution_count": 10,
   "metadata": {
    "execution": {
     "iopub.execute_input": "2022-08-03T15:35:02.343318Z",
     "iopub.status.busy": "2022-08-03T15:35:02.342646Z",
     "iopub.status.idle": "2022-08-03T15:35:03.057944Z",
     "shell.execute_reply": "2022-08-03T15:35:03.057264Z",
     "shell.execute_reply.started": "2022-08-03T15:35:02.343265Z"
    }
   },
   "outputs": [
    {
     "data": {
      "image/png": "[encoded data removed]",
      "text/plain": [
       "<Figure size 432x288 with 2 Axes>"
      ]
     },
     "metadata": {
      "needs_background": "light"
     },
     "output_type": "display_data"
    }
   ],
   "source": [
    "sns.heatmap(encoded_articles.corr());"
   ]
  },
  {
   "cell_type": "code",
   "execution_count": 11,
   "metadata": {
    "execution": {
     "iopub.execute_input": "2022-08-03T15:35:03.061182Z",
     "iopub.status.busy": "2022-08-03T15:35:03.060534Z",
     "iopub.status.idle": "2022-08-03T15:35:03.074339Z",
     "shell.execute_reply": "2022-08-03T15:35:03.073577Z",
     "shell.execute_reply.started": "2022-08-03T15:35:03.061148Z"
    }
   },
   "outputs": [],
   "source": [
    "encoded_articles = encoded_articles.drop(columns = ['product_code','prod_name','product_type_name','product_group_name','graphical_appearance_name','colour_group_name','perceived_colour_value_name','perceived_colour_master_name','department_name','index_name','index_group_name','section_name','garment_group_name','detail_desc'])"
   ]
  },
  {
   "cell_type": "code",
   "execution_count": 12,
   "metadata": {
    "execution": {
     "iopub.execute_input": "2022-08-03T15:35:03.075846Z",
     "iopub.status.busy": "2022-08-03T15:35:03.075603Z",
     "iopub.status.idle": "2022-08-03T15:35:03.556668Z",
     "shell.execute_reply": "2022-08-03T15:35:03.555942Z",
     "shell.execute_reply.started": "2022-08-03T15:35:03.075814Z"
    }
   },
   "outputs": [
    {
     "data": {
      "image/png": "[encoded data removed]",
      "text/plain": [
       "<Figure size 432x288 with 2 Axes>"
      ]
     },
     "metadata": {
      "needs_background": "light"
     },
     "output_type": "display_data"
    }
   ],
   "source": [
    "sns.heatmap(encoded_articles.corr());"
   ]
  },
  {
   "cell_type": "markdown",
   "metadata": {
    "execution": {
     "iopub.execute_input": "2022-07-31T09:22:30.246638Z",
     "iopub.status.busy": "2022-07-31T09:22:30.245354Z",
     "iopub.status.idle": "2022-07-31T09:22:30.277423Z",
     "shell.execute_reply": "2022-07-31T09:22:30.275599Z",
     "shell.execute_reply.started": "2022-07-31T09:22:30.246538Z"
    }
   },
   "source": [
    "First I want to take out columns that have high colinearity. \n",
    "\n",
    "By human check, taking out the high coliearity variables. That's all i will do for now"
   ]
  },
  {
   "cell_type": "code",
   "execution_count": 13,
   "metadata": {
    "execution": {
     "iopub.execute_input": "2022-08-03T15:35:03.559254Z",
     "iopub.status.busy": "2022-08-03T15:35:03.558565Z",
     "iopub.status.idle": "2022-08-03T15:35:03.564687Z",
     "shell.execute_reply": "2022-08-03T15:35:03.563555Z",
     "shell.execute_reply.started": "2022-08-03T15:35:03.559205Z"
    }
   },
   "outputs": [],
   "source": [
    "import seaborn as sns\n",
    "import matplotlib.pyplot as plt"
   ]
  },
  {
   "cell_type": "markdown",
   "metadata": {},
   "source": [
    "Lets peek into what are the things in articles."
   ]
  },
  {
   "cell_type": "code",
   "execution_count": 14,
   "metadata": {
    "execution": {
     "iopub.execute_input": "2022-08-03T15:35:03.567439Z",
     "iopub.status.busy": "2022-08-03T15:35:03.566790Z",
     "iopub.status.idle": "2022-08-03T15:35:03.579741Z",
     "shell.execute_reply": "2022-08-03T15:35:03.578755Z",
     "shell.execute_reply.started": "2022-08-03T15:35:03.567390Z"
    }
   },
   "outputs": [
    {
     "data": {
      "text/plain": [
       "Index(['article_id', 'product_code', 'prod_name', 'product_type_no',\n",
       "       'product_type_name', 'product_group_name', 'graphical_appearance_no',\n",
       "       'graphical_appearance_name', 'colour_group_code', 'colour_group_name',\n",
       "       'perceived_colour_value_id', 'perceived_colour_value_name',\n",
       "       'perceived_colour_master_id', 'perceived_colour_master_name',\n",
       "       'department_no', 'department_name', 'index_code', 'index_name',\n",
       "       'index_group_no', 'index_group_name', 'section_no', 'section_name',\n",
       "       'garment_group_no', 'garment_group_name', 'detail_desc'],\n",
       "      dtype='object')"
      ]
     },
     "execution_count": 14,
     "metadata": {},
     "output_type": "execute_result"
    }
   ],
   "source": [
    "articles.columns"
   ]
  },
  {
   "cell_type": "code",
   "execution_count": 15,
   "metadata": {
    "execution": {
     "iopub.execute_input": "2022-08-03T15:35:03.581421Z",
     "iopub.status.busy": "2022-08-03T15:35:03.580926Z",
     "iopub.status.idle": "2022-08-03T15:35:03.632255Z",
     "shell.execute_reply": "2022-08-03T15:35:03.631424Z",
     "shell.execute_reply.started": "2022-08-03T15:35:03.581380Z"
    }
   },
   "outputs": [
    {
     "data": {
      "text/html": [
       "<div>\n",
       "<style scoped>\n",
       "    .dataframe tbody tr th:only-of-type {\n",
       "        vertical-align: middle;\n",
       "    }\n",
       "\n",
       "    .dataframe tbody tr th {\n",
       "        vertical-align: top;\n",
       "    }\n",
       "\n",
       "    .dataframe thead th {\n",
       "        text-align: right;\n",
       "    }\n",
       "</style>\n",
       "<table border=\"1\" class=\"dataframe\">\n",
       "  <thead>\n",
       "    <tr style=\"text-align: right;\">\n",
       "      <th></th>\n",
       "      <th>product_code</th>\n",
       "      <th>count</th>\n",
       "    </tr>\n",
       "  </thead>\n",
       "  <tbody>\n",
       "    <tr>\n",
       "      <th>0</th>\n",
       "      <td>783707</td>\n",
       "      <td>75</td>\n",
       "    </tr>\n",
       "    <tr>\n",
       "      <th>1</th>\n",
       "      <td>684021</td>\n",
       "      <td>70</td>\n",
       "    </tr>\n",
       "    <tr>\n",
       "      <th>2</th>\n",
       "      <td>699923</td>\n",
       "      <td>52</td>\n",
       "    </tr>\n",
       "    <tr>\n",
       "      <th>3</th>\n",
       "      <td>699755</td>\n",
       "      <td>49</td>\n",
       "    </tr>\n",
       "    <tr>\n",
       "      <th>4</th>\n",
       "      <td>685604</td>\n",
       "      <td>46</td>\n",
       "    </tr>\n",
       "    <tr>\n",
       "      <th>...</th>\n",
       "      <td>...</td>\n",
       "      <td>...</td>\n",
       "    </tr>\n",
       "    <tr>\n",
       "      <th>47219</th>\n",
       "      <td>548757</td>\n",
       "      <td>1</td>\n",
       "    </tr>\n",
       "    <tr>\n",
       "      <th>47220</th>\n",
       "      <td>548744</td>\n",
       "      <td>1</td>\n",
       "    </tr>\n",
       "    <tr>\n",
       "      <th>47221</th>\n",
       "      <td>548738</td>\n",
       "      <td>1</td>\n",
       "    </tr>\n",
       "    <tr>\n",
       "      <th>47222</th>\n",
       "      <td>548724</td>\n",
       "      <td>1</td>\n",
       "    </tr>\n",
       "    <tr>\n",
       "      <th>47223</th>\n",
       "      <td>959461</td>\n",
       "      <td>1</td>\n",
       "    </tr>\n",
       "  </tbody>\n",
       "</table>\n",
       "<p>47224 rows × 2 columns</p>\n",
       "</div>"
      ],
      "text/plain": [
       "       product_code  count\n",
       "0            783707     75\n",
       "1            684021     70\n",
       "2            699923     52\n",
       "3            699755     49\n",
       "4            685604     46\n",
       "...             ...    ...\n",
       "47219        548757      1\n",
       "47220        548744      1\n",
       "47221        548738      1\n",
       "47222        548724      1\n",
       "47223        959461      1\n",
       "\n",
       "[47224 rows x 2 columns]"
      ]
     },
     "execution_count": 15,
     "metadata": {},
     "output_type": "execute_result"
    }
   ],
   "source": [
    "product_count = pd.DataFrame(articles[['product_code']].value_counts().sort_values(ascending=False),columns = ['count'])\n",
    "product_count = product_count.reset_index()\n",
    "product_count"
   ]
  },
  {
   "cell_type": "code",
   "execution_count": 16,
   "metadata": {
    "execution": {
     "iopub.execute_input": "2022-08-03T15:35:03.633616Z",
     "iopub.status.busy": "2022-08-03T15:35:03.633366Z",
     "iopub.status.idle": "2022-08-03T15:35:03.655664Z",
     "shell.execute_reply": "2022-08-03T15:35:03.654850Z",
     "shell.execute_reply.started": "2022-08-03T15:35:03.633585Z"
    }
   },
   "outputs": [],
   "source": [
    "name_code = articles[['prod_name','product_code']].drop_duplicates(['product_code'])"
   ]
  },
  {
   "cell_type": "code",
   "execution_count": 17,
   "metadata": {
    "execution": {
     "iopub.execute_input": "2022-08-03T15:35:03.657628Z",
     "iopub.status.busy": "2022-08-03T15:35:03.656908Z",
     "iopub.status.idle": "2022-08-03T15:35:03.710278Z",
     "shell.execute_reply": "2022-08-03T15:35:03.709565Z",
     "shell.execute_reply.started": "2022-08-03T15:35:03.657593Z"
    }
   },
   "outputs": [
    {
     "data": {
      "text/html": [
       "<div>\n",
       "<style scoped>\n",
       "    .dataframe tbody tr th:only-of-type {\n",
       "        vertical-align: middle;\n",
       "    }\n",
       "\n",
       "    .dataframe tbody tr th {\n",
       "        vertical-align: top;\n",
       "    }\n",
       "\n",
       "    .dataframe thead th {\n",
       "        text-align: right;\n",
       "    }\n",
       "</style>\n",
       "<table border=\"1\" class=\"dataframe\">\n",
       "  <thead>\n",
       "    <tr style=\"text-align: right;\">\n",
       "      <th></th>\n",
       "      <th>product_code</th>\n",
       "      <th>count</th>\n",
       "    </tr>\n",
       "  </thead>\n",
       "  <tbody>\n",
       "    <tr>\n",
       "      <th>count</th>\n",
       "      <td>47224.000000</td>\n",
       "      <td>47224.000000</td>\n",
       "    </tr>\n",
       "    <tr>\n",
       "      <th>mean</th>\n",
       "      <td>715504.671396</td>\n",
       "      <td>2.234923</td>\n",
       "    </tr>\n",
       "    <tr>\n",
       "      <th>std</th>\n",
       "      <td>123905.601113</td>\n",
       "      <td>2.592072</td>\n",
       "    </tr>\n",
       "    <tr>\n",
       "      <th>min</th>\n",
       "      <td>108775.000000</td>\n",
       "      <td>1.000000</td>\n",
       "    </tr>\n",
       "    <tr>\n",
       "      <th>25%</th>\n",
       "      <td>627468.000000</td>\n",
       "      <td>1.000000</td>\n",
       "    </tr>\n",
       "    <tr>\n",
       "      <th>50%</th>\n",
       "      <td>717666.500000</td>\n",
       "      <td>1.000000</td>\n",
       "    </tr>\n",
       "    <tr>\n",
       "      <th>75%</th>\n",
       "      <td>812941.750000</td>\n",
       "      <td>2.000000</td>\n",
       "    </tr>\n",
       "    <tr>\n",
       "      <th>max</th>\n",
       "      <td>959461.000000</td>\n",
       "      <td>75.000000</td>\n",
       "    </tr>\n",
       "  </tbody>\n",
       "</table>\n",
       "</div>"
      ],
      "text/plain": [
       "        product_code         count\n",
       "count   47224.000000  47224.000000\n",
       "mean   715504.671396      2.234923\n",
       "std    123905.601113      2.592072\n",
       "min    108775.000000      1.000000\n",
       "25%    627468.000000      1.000000\n",
       "50%    717666.500000      1.000000\n",
       "75%    812941.750000      2.000000\n",
       "max    959461.000000     75.000000"
      ]
     },
     "execution_count": 17,
     "metadata": {},
     "output_type": "execute_result"
    }
   ],
   "source": [
    "product_distribution = product_count.merge(name_code, left_on='product_code',right_on='product_code')\n",
    "product_distribution.describe()"
   ]
  },
  {
   "cell_type": "markdown",
   "metadata": {},
   "source": [
    "Majority of product only has 1-2 variation. We may need to remove outliers that is 75 variation. \n",
    "We can set threshold that more than 10 different product's product we may take them out. \n",
    "\n",
    "or it may not be necessary."
   ]
  },
  {
   "cell_type": "code",
   "execution_count": 18,
   "metadata": {
    "execution": {
     "iopub.execute_input": "2022-08-03T15:35:03.712034Z",
     "iopub.status.busy": "2022-08-03T15:35:03.711614Z",
     "iopub.status.idle": "2022-08-03T15:35:03.944088Z",
     "shell.execute_reply": "2022-08-03T15:35:03.943233Z",
     "shell.execute_reply.started": "2022-08-03T15:35:03.712001Z"
    }
   },
   "outputs": [
    {
     "data": {
      "image/png": "[encoded data removed]",
      "text/plain": [
       "<Figure size 432x288 with 1 Axes>"
      ]
     },
     "metadata": {
      "needs_background": "light"
     },
     "output_type": "display_data"
    }
   ],
   "source": [
    "plt.hist(product_distribution['count'])\n",
    "plt.show() "
   ]
  },
  {
   "cell_type": "code",
   "execution_count": 19,
   "metadata": {
    "execution": {
     "iopub.execute_input": "2022-08-03T15:35:03.945937Z",
     "iopub.status.busy": "2022-08-03T15:35:03.945441Z",
     "iopub.status.idle": "2022-08-03T15:35:04.153201Z",
     "shell.execute_reply": "2022-08-03T15:35:04.152284Z",
     "shell.execute_reply.started": "2022-08-03T15:35:03.945901Z"
    }
   },
   "outputs": [
    {
     "data": {
      "text/plain": [
       "{'whiskers': [<matplotlib.lines.Line2D at 0x7f840d37b9a0>,\n",
       "  <matplotlib.lines.Line2D at 0x7f840d37bc70>],\n",
       " 'caps': [<matplotlib.lines.Line2D at 0x7f840d37bfa0>,\n",
       "  <matplotlib.lines.Line2D at 0x7f840d38d250>],\n",
       " 'boxes': [<matplotlib.lines.Line2D at 0x7f840d37b6d0>],\n",
       " 'medians': [<matplotlib.lines.Line2D at 0x7f840d38d520>],\n",
       " 'fliers': [<matplotlib.lines.Line2D at 0x7f840d38d7f0>],\n",
       " 'means': []}"
      ]
     },
     "execution_count": 19,
     "metadata": {},
     "output_type": "execute_result"
    },
    {
     "data": {
      "image/png": "[encoded data removed]",
      "text/plain": [
       "<Figure size 432x288 with 1 Axes>"
      ]
     },
     "metadata": {
      "needs_background": "light"
     },
     "output_type": "display_data"
    }
   ],
   "source": [
    "plt.boxplot(product_distribution['count'])"
   ]
  },
  {
   "cell_type": "code",
   "execution_count": 20,
   "metadata": {
    "execution": {
     "iopub.execute_input": "2022-08-03T15:35:04.154968Z",
     "iopub.status.busy": "2022-08-03T15:35:04.154729Z",
     "iopub.status.idle": "2022-08-03T15:35:04.164643Z",
     "shell.execute_reply": "2022-08-03T15:35:04.163447Z",
     "shell.execute_reply.started": "2022-08-03T15:35:04.154935Z"
    }
   },
   "outputs": [
    {
     "data": {
      "text/html": [
       "<div>\n",
       "<style scoped>\n",
       "    .dataframe tbody tr th:only-of-type {\n",
       "        vertical-align: middle;\n",
       "    }\n",
       "\n",
       "    .dataframe tbody tr th {\n",
       "        vertical-align: top;\n",
       "    }\n",
       "\n",
       "    .dataframe thead th {\n",
       "        text-align: right;\n",
       "    }\n",
       "</style>\n",
       "<table border=\"1\" class=\"dataframe\">\n",
       "  <thead>\n",
       "    <tr style=\"text-align: right;\">\n",
       "      <th></th>\n",
       "      <th>prod_name</th>\n",
       "      <th>product_code</th>\n",
       "    </tr>\n",
       "  </thead>\n",
       "  <tbody>\n",
       "    <tr>\n",
       "      <th>0</th>\n",
       "      <td>Strap top</td>\n",
       "      <td>108775</td>\n",
       "    </tr>\n",
       "    <tr>\n",
       "      <th>3</th>\n",
       "      <td>OP T-shirt (Idro)</td>\n",
       "      <td>110065</td>\n",
       "    </tr>\n",
       "  </tbody>\n",
       "</table>\n",
       "</div>"
      ],
      "text/plain": [
       "           prod_name  product_code\n",
       "0          Strap top        108775\n",
       "3  OP T-shirt (Idro)        110065"
      ]
     },
     "execution_count": 20,
     "metadata": {},
     "output_type": "execute_result"
    }
   ],
   "source": [
    "name_code.head(2)"
   ]
  },
  {
   "cell_type": "markdown",
   "metadata": {},
   "source": [
    "\n",
    "\n",
    "<font size=\"5\">By looking at product code, we can see top one percent of product have multiple different variation. Like \\#1 most count of product is actually kid clothing!\n",
    "Whereas the 90% of the product is only average of 1-2 variation. </font>"
   ]
  },
  {
   "cell_type": "markdown",
   "metadata": {},
   "source": [
    "<font size=\"5\">From here we can note that the same product can have 1-2 variation variation. </font>"
   ]
  },
  {
   "cell_type": "code",
   "execution_count": 21,
   "metadata": {
    "execution": {
     "iopub.execute_input": "2022-08-03T15:35:04.166883Z",
     "iopub.status.busy": "2022-08-03T15:35:04.166255Z",
     "iopub.status.idle": "2022-08-03T15:35:08.770147Z",
     "shell.execute_reply": "2022-08-03T15:35:08.769366Z",
     "shell.execute_reply.started": "2022-08-03T15:35:04.166840Z"
    }
   },
   "outputs": [
    {
     "data": {
      "image/png": "[encoded data removed]",
      "text/plain": [
       "<Figure size 432x288 with 1 Axes>"
      ]
     },
     "metadata": {
      "needs_background": "light"
     },
     "output_type": "display_data"
    }
   ],
   "source": [
    "fig = plt.figure()\n",
    "ax = fig.add_axes([0,0,1,1])\n",
    "ax.bar(product_count.index[:2000],product_count['count'][:2000])\n",
    "plt.ylim([0, 100])\n",
    "plt.show()"
   ]
  },
  {
   "cell_type": "code",
   "execution_count": 22,
   "metadata": {
    "execution": {
     "iopub.execute_input": "2022-08-03T15:35:08.772121Z",
     "iopub.status.busy": "2022-08-03T15:35:08.771615Z",
     "iopub.status.idle": "2022-08-03T15:35:08.777947Z",
     "shell.execute_reply": "2022-08-03T15:35:08.777058Z",
     "shell.execute_reply.started": "2022-08-03T15:35:08.772076Z"
    }
   },
   "outputs": [],
   "source": [
    "product_name = articles[['product_code','prod_name']]"
   ]
  },
  {
   "cell_type": "code",
   "execution_count": 23,
   "metadata": {
    "execution": {
     "iopub.execute_input": "2022-08-03T15:35:08.779716Z",
     "iopub.status.busy": "2022-08-03T15:35:08.779423Z",
     "iopub.status.idle": "2022-08-03T15:35:08.846374Z",
     "shell.execute_reply": "2022-08-03T15:35:08.845593Z",
     "shell.execute_reply.started": "2022-08-03T15:35:08.779683Z"
    }
   },
   "outputs": [
    {
     "data": {
      "text/html": [
       "<div>\n",
       "<style scoped>\n",
       "    .dataframe tbody tr th:only-of-type {\n",
       "        vertical-align: middle;\n",
       "    }\n",
       "\n",
       "    .dataframe tbody tr th {\n",
       "        vertical-align: top;\n",
       "    }\n",
       "\n",
       "    .dataframe thead th {\n",
       "        text-align: right;\n",
       "    }\n",
       "</style>\n",
       "<table border=\"1\" class=\"dataframe\">\n",
       "  <thead>\n",
       "    <tr style=\"text-align: right;\">\n",
       "      <th></th>\n",
       "      <th>product_code</th>\n",
       "      <th>count</th>\n",
       "      <th>prod_name</th>\n",
       "    </tr>\n",
       "  </thead>\n",
       "  <tbody>\n",
       "    <tr>\n",
       "      <th>105541</th>\n",
       "      <td>959461</td>\n",
       "      <td>1</td>\n",
       "      <td>Lounge dress</td>\n",
       "    </tr>\n",
       "    <tr>\n",
       "      <th>89491</th>\n",
       "      <td>624309</td>\n",
       "      <td>1</td>\n",
       "      <td>SB Mason Trousers</td>\n",
       "    </tr>\n",
       "    <tr>\n",
       "      <th>89492</th>\n",
       "      <td>624310</td>\n",
       "      <td>1</td>\n",
       "      <td>BB Mason Trousers</td>\n",
       "    </tr>\n",
       "    <tr>\n",
       "      <th>89493</th>\n",
       "      <td>659011</td>\n",
       "      <td>1</td>\n",
       "      <td>LF Clematis Frill Dress</td>\n",
       "    </tr>\n",
       "    <tr>\n",
       "      <th>89494</th>\n",
       "      <td>761350</td>\n",
       "      <td>1</td>\n",
       "      <td>Dixie tee</td>\n",
       "    </tr>\n",
       "    <tr>\n",
       "      <th>...</th>\n",
       "      <td>...</td>\n",
       "      <td>...</td>\n",
       "      <td>...</td>\n",
       "    </tr>\n",
       "    <tr>\n",
       "      <th>52</th>\n",
       "      <td>783707</td>\n",
       "      <td>75</td>\n",
       "      <td>1pk Fun</td>\n",
       "    </tr>\n",
       "    <tr>\n",
       "      <th>53</th>\n",
       "      <td>783707</td>\n",
       "      <td>75</td>\n",
       "      <td>1pk Fun</td>\n",
       "    </tr>\n",
       "    <tr>\n",
       "      <th>55</th>\n",
       "      <td>783707</td>\n",
       "      <td>75</td>\n",
       "      <td>1pk fun sock</td>\n",
       "    </tr>\n",
       "    <tr>\n",
       "      <th>47</th>\n",
       "      <td>783707</td>\n",
       "      <td>75</td>\n",
       "      <td>1pk Fun</td>\n",
       "    </tr>\n",
       "    <tr>\n",
       "      <th>0</th>\n",
       "      <td>783707</td>\n",
       "      <td>75</td>\n",
       "      <td>1pk Fun</td>\n",
       "    </tr>\n",
       "  </tbody>\n",
       "</table>\n",
       "<p>105542 rows × 3 columns</p>\n",
       "</div>"
      ],
      "text/plain": [
       "        product_code  count                prod_name\n",
       "105541        959461      1             Lounge dress\n",
       "89491         624309      1        SB Mason Trousers\n",
       "89492         624310      1        BB Mason Trousers\n",
       "89493         659011      1  LF Clematis Frill Dress\n",
       "89494         761350      1                Dixie tee\n",
       "...              ...    ...                      ...\n",
       "52            783707     75                  1pk Fun\n",
       "53            783707     75                  1pk Fun\n",
       "55            783707     75             1pk fun sock\n",
       "47            783707     75                  1pk Fun\n",
       "0             783707     75                  1pk Fun\n",
       "\n",
       "[105542 rows x 3 columns]"
      ]
     },
     "execution_count": 23,
     "metadata": {},
     "output_type": "execute_result"
    }
   ],
   "source": [
    "product_count.merge(product_name, how = \"left\", left_on=\"product_code\",right_on=\"product_code\").sort_values(by='count')"
   ]
  },
  {
   "cell_type": "markdown",
   "metadata": {},
   "source": [
    "<font size=\"5\">I notice the most repeated product is kid clothing!\n",
    "</font>"
   ]
  },
  {
   "cell_type": "markdown",
   "metadata": {},
   "source": [
    "<font size=\"5\">\n",
    "        prod_name can be really creative, and can definitely contribute later. For now, I may skip this variable. \n",
    "</font>\n"
   ]
  },
  {
   "cell_type": "markdown",
   "metadata": {},
   "source": [
    "<font size=\"5\">\n",
    "Now I can ask a better question, So what product type do we have here?\n",
    "</font>"
   ]
  },
  {
   "cell_type": "code",
   "execution_count": 24,
   "metadata": {
    "execution": {
     "iopub.execute_input": "2022-08-03T15:35:08.848273Z",
     "iopub.status.busy": "2022-08-03T15:35:08.847595Z",
     "iopub.status.idle": "2022-08-03T15:35:08.854997Z",
     "shell.execute_reply": "2022-08-03T15:35:08.853899Z",
     "shell.execute_reply.started": "2022-08-03T15:35:08.848239Z"
    }
   },
   "outputs": [],
   "source": [
    "product_type = articles[['product_code', 'product_type_no','product_type_name']]"
   ]
  },
  {
   "cell_type": "code",
   "execution_count": 25,
   "metadata": {
    "execution": {
     "iopub.execute_input": "2022-08-03T15:35:08.856976Z",
     "iopub.status.busy": "2022-08-03T15:35:08.856218Z",
     "iopub.status.idle": "2022-08-03T15:35:08.879955Z",
     "shell.execute_reply": "2022-08-03T15:35:08.879230Z",
     "shell.execute_reply.started": "2022-08-03T15:35:08.856943Z"
    }
   },
   "outputs": [],
   "source": [
    "product_type_name = articles[['product_type_no','product_type_name']]\n",
    "product_type_name = product_type_name.drop_duplicates()"
   ]
  },
  {
   "cell_type": "code",
   "execution_count": 26,
   "metadata": {
    "execution": {
     "iopub.execute_input": "2022-08-03T15:35:08.881719Z",
     "iopub.status.busy": "2022-08-03T15:35:08.881261Z",
     "iopub.status.idle": "2022-08-03T15:35:08.894740Z",
     "shell.execute_reply": "2022-08-03T15:35:08.893696Z",
     "shell.execute_reply.started": "2022-08-03T15:35:08.881680Z"
    }
   },
   "outputs": [
    {
     "data": {
      "text/html": [
       "<div>\n",
       "<style scoped>\n",
       "    .dataframe tbody tr th:only-of-type {\n",
       "        vertical-align: middle;\n",
       "    }\n",
       "\n",
       "    .dataframe tbody tr th {\n",
       "        vertical-align: top;\n",
       "    }\n",
       "\n",
       "    .dataframe thead th {\n",
       "        text-align: right;\n",
       "    }\n",
       "</style>\n",
       "<table border=\"1\" class=\"dataframe\">\n",
       "  <thead>\n",
       "    <tr style=\"text-align: right;\">\n",
       "      <th></th>\n",
       "      <th>product_type_no</th>\n",
       "      <th>product_type_name</th>\n",
       "    </tr>\n",
       "  </thead>\n",
       "  <tbody>\n",
       "    <tr>\n",
       "      <th>0</th>\n",
       "      <td>253</td>\n",
       "      <td>Vest top</td>\n",
       "    </tr>\n",
       "    <tr>\n",
       "      <th>3</th>\n",
       "      <td>306</td>\n",
       "      <td>Bra</td>\n",
       "    </tr>\n",
       "    <tr>\n",
       "      <th>6</th>\n",
       "      <td>304</td>\n",
       "      <td>Underwear Tights</td>\n",
       "    </tr>\n",
       "    <tr>\n",
       "      <th>7</th>\n",
       "      <td>302</td>\n",
       "      <td>Socks</td>\n",
       "    </tr>\n",
       "    <tr>\n",
       "      <th>8</th>\n",
       "      <td>273</td>\n",
       "      <td>Leggings/Tights</td>\n",
       "    </tr>\n",
       "    <tr>\n",
       "      <th>...</th>\n",
       "      <td>...</td>\n",
       "      <td>...</td>\n",
       "    </tr>\n",
       "    <tr>\n",
       "      <th>102766</th>\n",
       "      <td>521</td>\n",
       "      <td>Dog wear</td>\n",
       "    </tr>\n",
       "    <tr>\n",
       "      <th>103628</th>\n",
       "      <td>510</td>\n",
       "      <td>Eyeglasses</td>\n",
       "    </tr>\n",
       "    <tr>\n",
       "      <th>103910</th>\n",
       "      <td>523</td>\n",
       "      <td>Wireless earphone case</td>\n",
       "    </tr>\n",
       "    <tr>\n",
       "      <th>104253</th>\n",
       "      <td>491</td>\n",
       "      <td>Stain remover spray</td>\n",
       "    </tr>\n",
       "    <tr>\n",
       "      <th>104255</th>\n",
       "      <td>483</td>\n",
       "      <td>Clothing mist</td>\n",
       "    </tr>\n",
       "  </tbody>\n",
       "</table>\n",
       "<p>132 rows × 2 columns</p>\n",
       "</div>"
      ],
      "text/plain": [
       "        product_type_no       product_type_name\n",
       "0                   253                Vest top\n",
       "3                   306                     Bra\n",
       "6                   304        Underwear Tights\n",
       "7                   302                   Socks\n",
       "8                   273         Leggings/Tights\n",
       "...                 ...                     ...\n",
       "102766              521                Dog wear\n",
       "103628              510              Eyeglasses\n",
       "103910              523  Wireless earphone case\n",
       "104253              491     Stain remover spray\n",
       "104255              483           Clothing mist\n",
       "\n",
       "[132 rows x 2 columns]"
      ]
     },
     "execution_count": 26,
     "metadata": {},
     "output_type": "execute_result"
    }
   ],
   "source": [
    "product_type_name"
   ]
  },
  {
   "cell_type": "markdown",
   "metadata": {},
   "source": [
    "<font size=\"5\">\n",
    "we have 132 unique type in all our articles. Lets see how they are distributed!\n",
    "</font>"
   ]
  },
  {
   "cell_type": "code",
   "execution_count": 27,
   "metadata": {
    "execution": {
     "iopub.execute_input": "2022-08-03T15:35:08.896733Z",
     "iopub.status.busy": "2022-08-03T15:35:08.895840Z",
     "iopub.status.idle": "2022-08-03T15:35:08.910666Z",
     "shell.execute_reply": "2022-08-03T15:35:08.909915Z",
     "shell.execute_reply.started": "2022-08-03T15:35:08.896697Z"
    }
   },
   "outputs": [],
   "source": [
    "product_type = pd.DataFrame(product_type.groupby(by=[\"product_type_no\"])['product_type_name'].count().sort_values(ascending=False))\n",
    "product_type = product_type.reset_index()\n",
    "product_type.columns = ['product_type_no', 'product_type_count']"
   ]
  },
  {
   "cell_type": "code",
   "execution_count": 28,
   "metadata": {
    "execution": {
     "iopub.execute_input": "2022-08-03T15:35:08.912643Z",
     "iopub.status.busy": "2022-08-03T15:35:08.911928Z",
     "iopub.status.idle": "2022-08-03T15:35:08.925132Z",
     "shell.execute_reply": "2022-08-03T15:35:08.924068Z",
     "shell.execute_reply.started": "2022-08-03T15:35:08.912611Z"
    }
   },
   "outputs": [
    {
     "data": {
      "text/html": [
       "<div>\n",
       "<style scoped>\n",
       "    .dataframe tbody tr th:only-of-type {\n",
       "        vertical-align: middle;\n",
       "    }\n",
       "\n",
       "    .dataframe tbody tr th {\n",
       "        vertical-align: top;\n",
       "    }\n",
       "\n",
       "    .dataframe thead th {\n",
       "        text-align: right;\n",
       "    }\n",
       "</style>\n",
       "<table border=\"1\" class=\"dataframe\">\n",
       "  <thead>\n",
       "    <tr style=\"text-align: right;\">\n",
       "      <th></th>\n",
       "      <th>product_type_no</th>\n",
       "      <th>product_type_count</th>\n",
       "    </tr>\n",
       "  </thead>\n",
       "  <tbody>\n",
       "    <tr>\n",
       "      <th>0</th>\n",
       "      <td>272</td>\n",
       "      <td>11169</td>\n",
       "    </tr>\n",
       "    <tr>\n",
       "      <th>1</th>\n",
       "      <td>265</td>\n",
       "      <td>10362</td>\n",
       "    </tr>\n",
       "    <tr>\n",
       "      <th>2</th>\n",
       "      <td>252</td>\n",
       "      <td>9302</td>\n",
       "    </tr>\n",
       "    <tr>\n",
       "      <th>3</th>\n",
       "      <td>255</td>\n",
       "      <td>7904</td>\n",
       "    </tr>\n",
       "    <tr>\n",
       "      <th>4</th>\n",
       "      <td>254</td>\n",
       "      <td>4155</td>\n",
       "    </tr>\n",
       "    <tr>\n",
       "      <th>...</th>\n",
       "      <td>...</td>\n",
       "      <td>...</td>\n",
       "    </tr>\n",
       "    <tr>\n",
       "      <th>127</th>\n",
       "      <td>492</td>\n",
       "      <td>1</td>\n",
       "    </tr>\n",
       "    <tr>\n",
       "      <th>128</th>\n",
       "      <td>468</td>\n",
       "      <td>1</td>\n",
       "    </tr>\n",
       "    <tr>\n",
       "      <th>129</th>\n",
       "      <td>483</td>\n",
       "      <td>1</td>\n",
       "    </tr>\n",
       "    <tr>\n",
       "      <th>130</th>\n",
       "      <td>489</td>\n",
       "      <td>1</td>\n",
       "    </tr>\n",
       "    <tr>\n",
       "      <th>131</th>\n",
       "      <td>464</td>\n",
       "      <td>1</td>\n",
       "    </tr>\n",
       "  </tbody>\n",
       "</table>\n",
       "<p>132 rows × 2 columns</p>\n",
       "</div>"
      ],
      "text/plain": [
       "     product_type_no  product_type_count\n",
       "0                272               11169\n",
       "1                265               10362\n",
       "2                252                9302\n",
       "3                255                7904\n",
       "4                254                4155\n",
       "..               ...                 ...\n",
       "127              492                   1\n",
       "128              468                   1\n",
       "129              483                   1\n",
       "130              489                   1\n",
       "131              464                   1\n",
       "\n",
       "[132 rows x 2 columns]"
      ]
     },
     "execution_count": 28,
     "metadata": {},
     "output_type": "execute_result"
    }
   ],
   "source": [
    "product_type"
   ]
  },
  {
   "cell_type": "code",
   "execution_count": 29,
   "metadata": {
    "execution": {
     "iopub.execute_input": "2022-08-03T15:35:08.931789Z",
     "iopub.status.busy": "2022-08-03T15:35:08.931527Z",
     "iopub.status.idle": "2022-08-03T15:35:08.937078Z",
     "shell.execute_reply": "2022-08-03T15:35:08.935809Z",
     "shell.execute_reply.started": "2022-08-03T15:35:08.931756Z"
    }
   },
   "outputs": [],
   "source": [
    "type_no_to_name = dict(zip(product_type_name['product_type_no'],product_type_name['product_type_name']))"
   ]
  },
  {
   "cell_type": "code",
   "execution_count": 30,
   "metadata": {
    "execution": {
     "iopub.execute_input": "2022-08-03T15:35:08.938813Z",
     "iopub.status.busy": "2022-08-03T15:35:08.938548Z",
     "iopub.status.idle": "2022-08-03T15:35:08.949318Z",
     "shell.execute_reply": "2022-08-03T15:35:08.948587Z",
     "shell.execute_reply.started": "2022-08-03T15:35:08.938781Z"
    }
   },
   "outputs": [],
   "source": [
    "product_type['product_type_name'] = product_type['product_type_no'].apply(lambda x : type_no_to_name[x]) "
   ]
  },
  {
   "cell_type": "code",
   "execution_count": 31,
   "metadata": {
    "execution": {
     "iopub.execute_input": "2022-08-03T15:35:08.951088Z",
     "iopub.status.busy": "2022-08-03T15:35:08.950672Z",
     "iopub.status.idle": "2022-08-03T15:35:08.974241Z",
     "shell.execute_reply": "2022-08-03T15:35:08.973189Z",
     "shell.execute_reply.started": "2022-08-03T15:35:08.951051Z"
    }
   },
   "outputs": [
    {
     "data": {
      "text/html": [
       "<div>\n",
       "<style scoped>\n",
       "    .dataframe tbody tr th:only-of-type {\n",
       "        vertical-align: middle;\n",
       "    }\n",
       "\n",
       "    .dataframe tbody tr th {\n",
       "        vertical-align: top;\n",
       "    }\n",
       "\n",
       "    .dataframe thead th {\n",
       "        text-align: right;\n",
       "    }\n",
       "</style>\n",
       "<table border=\"1\" class=\"dataframe\">\n",
       "  <thead>\n",
       "    <tr style=\"text-align: right;\">\n",
       "      <th></th>\n",
       "      <th>product_type_no</th>\n",
       "      <th>product_type_count</th>\n",
       "    </tr>\n",
       "  </thead>\n",
       "  <tbody>\n",
       "    <tr>\n",
       "      <th>count</th>\n",
       "      <td>132.000000</td>\n",
       "      <td>132.000000</td>\n",
       "    </tr>\n",
       "    <tr>\n",
       "      <th>mean</th>\n",
       "      <td>277.371212</td>\n",
       "      <td>799.560606</td>\n",
       "    </tr>\n",
       "    <tr>\n",
       "      <th>std</th>\n",
       "      <td>168.340005</td>\n",
       "      <td>1834.372989</td>\n",
       "    </tr>\n",
       "    <tr>\n",
       "      <th>min</th>\n",
       "      <td>-1.000000</td>\n",
       "      <td>1.000000</td>\n",
       "    </tr>\n",
       "    <tr>\n",
       "      <th>25%</th>\n",
       "      <td>93.750000</td>\n",
       "      <td>7.000000</td>\n",
       "    </tr>\n",
       "    <tr>\n",
       "      <th>50%</th>\n",
       "      <td>272.500000</td>\n",
       "      <td>104.500000</td>\n",
       "    </tr>\n",
       "    <tr>\n",
       "      <th>75%</th>\n",
       "      <td>464.250000</td>\n",
       "      <td>685.750000</td>\n",
       "    </tr>\n",
       "    <tr>\n",
       "      <th>max</th>\n",
       "      <td>762.000000</td>\n",
       "      <td>11169.000000</td>\n",
       "    </tr>\n",
       "  </tbody>\n",
       "</table>\n",
       "</div>"
      ],
      "text/plain": [
       "       product_type_no  product_type_count\n",
       "count       132.000000          132.000000\n",
       "mean        277.371212          799.560606\n",
       "std         168.340005         1834.372989\n",
       "min          -1.000000            1.000000\n",
       "25%          93.750000            7.000000\n",
       "50%         272.500000          104.500000\n",
       "75%         464.250000          685.750000\n",
       "max         762.000000        11169.000000"
      ]
     },
     "execution_count": 31,
     "metadata": {},
     "output_type": "execute_result"
    }
   ],
   "source": [
    "product_type.describe()"
   ]
  },
  {
   "cell_type": "markdown",
   "metadata": {},
   "source": [
    "<font size=\"5\">\n",
    "Product type have many types \n",
    "</font>"
   ]
  },
  {
   "cell_type": "code",
   "execution_count": 32,
   "metadata": {
    "execution": {
     "iopub.execute_input": "2022-08-03T15:35:08.975977Z",
     "iopub.status.busy": "2022-08-03T15:35:08.975715Z",
     "iopub.status.idle": "2022-08-03T15:35:08.990912Z",
     "shell.execute_reply": "2022-08-03T15:35:08.989668Z",
     "shell.execute_reply.started": "2022-08-03T15:35:08.975944Z"
    }
   },
   "outputs": [
    {
     "data": {
      "text/html": [
       "<div>\n",
       "<style scoped>\n",
       "    .dataframe tbody tr th:only-of-type {\n",
       "        vertical-align: middle;\n",
       "    }\n",
       "\n",
       "    .dataframe tbody tr th {\n",
       "        vertical-align: top;\n",
       "    }\n",
       "\n",
       "    .dataframe thead th {\n",
       "        text-align: right;\n",
       "    }\n",
       "</style>\n",
       "<table border=\"1\" class=\"dataframe\">\n",
       "  <thead>\n",
       "    <tr style=\"text-align: right;\">\n",
       "      <th></th>\n",
       "      <th>product_type_no</th>\n",
       "      <th>product_type_count</th>\n",
       "      <th>product_type_name</th>\n",
       "    </tr>\n",
       "  </thead>\n",
       "  <tbody>\n",
       "    <tr>\n",
       "      <th>0</th>\n",
       "      <td>272</td>\n",
       "      <td>11169</td>\n",
       "      <td>Trousers</td>\n",
       "    </tr>\n",
       "    <tr>\n",
       "      <th>1</th>\n",
       "      <td>265</td>\n",
       "      <td>10362</td>\n",
       "      <td>Dress</td>\n",
       "    </tr>\n",
       "    <tr>\n",
       "      <th>2</th>\n",
       "      <td>252</td>\n",
       "      <td>9302</td>\n",
       "      <td>Sweater</td>\n",
       "    </tr>\n",
       "    <tr>\n",
       "      <th>3</th>\n",
       "      <td>255</td>\n",
       "      <td>7904</td>\n",
       "      <td>T-shirt</td>\n",
       "    </tr>\n",
       "    <tr>\n",
       "      <th>4</th>\n",
       "      <td>254</td>\n",
       "      <td>4155</td>\n",
       "      <td>Top</td>\n",
       "    </tr>\n",
       "    <tr>\n",
       "      <th>...</th>\n",
       "      <td>...</td>\n",
       "      <td>...</td>\n",
       "      <td>...</td>\n",
       "    </tr>\n",
       "    <tr>\n",
       "      <th>127</th>\n",
       "      <td>492</td>\n",
       "      <td>1</td>\n",
       "      <td>Washing bag</td>\n",
       "    </tr>\n",
       "    <tr>\n",
       "      <th>128</th>\n",
       "      <td>468</td>\n",
       "      <td>1</td>\n",
       "      <td>Bumbag</td>\n",
       "    </tr>\n",
       "    <tr>\n",
       "      <th>129</th>\n",
       "      <td>483</td>\n",
       "      <td>1</td>\n",
       "      <td>Clothing mist</td>\n",
       "    </tr>\n",
       "    <tr>\n",
       "      <th>130</th>\n",
       "      <td>489</td>\n",
       "      <td>1</td>\n",
       "      <td>Sewing kit</td>\n",
       "    </tr>\n",
       "    <tr>\n",
       "      <th>131</th>\n",
       "      <td>464</td>\n",
       "      <td>1</td>\n",
       "      <td>Pre-walkers</td>\n",
       "    </tr>\n",
       "  </tbody>\n",
       "</table>\n",
       "<p>132 rows × 3 columns</p>\n",
       "</div>"
      ],
      "text/plain": [
       "     product_type_no  product_type_count product_type_name\n",
       "0                272               11169          Trousers\n",
       "1                265               10362             Dress\n",
       "2                252                9302           Sweater\n",
       "3                255                7904           T-shirt\n",
       "4                254                4155               Top\n",
       "..               ...                 ...               ...\n",
       "127              492                   1       Washing bag\n",
       "128              468                   1            Bumbag\n",
       "129              483                   1     Clothing mist\n",
       "130              489                   1        Sewing kit\n",
       "131              464                   1       Pre-walkers\n",
       "\n",
       "[132 rows x 3 columns]"
      ]
     },
     "execution_count": 32,
     "metadata": {},
     "output_type": "execute_result"
    }
   ],
   "source": [
    "product_type"
   ]
  },
  {
   "cell_type": "code",
   "execution_count": 33,
   "metadata": {
    "execution": {
     "iopub.execute_input": "2022-08-03T15:35:08.993386Z",
     "iopub.status.busy": "2022-08-03T15:35:08.992277Z",
     "iopub.status.idle": "2022-08-03T15:35:09.001436Z",
     "shell.execute_reply": "2022-08-03T15:35:09.000585Z",
     "shell.execute_reply.started": "2022-08-03T15:35:08.993351Z"
    }
   },
   "outputs": [
    {
     "data": {
      "text/plain": [
       "1032.8000000000002"
      ]
     },
     "execution_count": 33,
     "metadata": {},
     "output_type": "execute_result"
    }
   ],
   "source": [
    "product_type['product_type_count'].quantile(0.8)"
   ]
  },
  {
   "cell_type": "code",
   "execution_count": 34,
   "metadata": {
    "execution": {
     "iopub.execute_input": "2022-08-03T15:35:09.003366Z",
     "iopub.status.busy": "2022-08-03T15:35:09.002688Z",
     "iopub.status.idle": "2022-08-03T15:35:09.254248Z",
     "shell.execute_reply": "2022-08-03T15:35:09.253211Z",
     "shell.execute_reply.started": "2022-08-03T15:35:09.003320Z"
    }
   },
   "outputs": [
    {
     "data": {
      "image/png": "[encoded data removed]",
      "text/plain": [
       "<Figure size 432x288 with 1 Axes>"
      ]
     },
     "metadata": {
      "needs_background": "light"
     },
     "output_type": "display_data"
    }
   ],
   "source": [
    "fig = plt.figure()\n",
    "ax = fig.add_axes([0,0,1,1])\n",
    "ax.bar(product_type['product_type_name'][:10],product_type['product_type_count'][:10])\n",
    "plt.xticks(rotation='vertical')\n",
    "plt.show()"
   ]
  },
  {
   "cell_type": "code",
   "execution_count": 35,
   "metadata": {
    "execution": {
     "iopub.execute_input": "2022-08-03T15:35:09.255756Z",
     "iopub.status.busy": "2022-08-03T15:35:09.255490Z",
     "iopub.status.idle": "2022-08-03T15:35:09.509277Z",
     "shell.execute_reply": "2022-08-03T15:35:09.508241Z",
     "shell.execute_reply.started": "2022-08-03T15:35:09.255723Z"
    }
   },
   "outputs": [
    {
     "data": {
      "image/png": "[encoded data removed]",
      "text/plain": [
       "<Figure size 432x288 with 1 Axes>"
      ]
     },
     "metadata": {
      "needs_background": "light"
     },
     "output_type": "display_data"
    }
   ],
   "source": [
    "fig = plt.figure()\n",
    "ax = fig.add_axes([0,0,1,1])\n",
    "ax.bar(product_type['product_type_name'][10:20],product_type['product_type_count'][10:20])\n",
    "plt.xticks(rotation='vertical')\n",
    "plt.show()"
   ]
  },
  {
   "cell_type": "markdown",
   "metadata": {},
   "source": [
    "<font size=\"5\">\n",
    "Seems like \n",
    "</font>"
   ]
  },
  {
   "cell_type": "code",
   "execution_count": 36,
   "metadata": {
    "execution": {
     "iopub.execute_input": "2022-08-03T15:35:09.511192Z",
     "iopub.status.busy": "2022-08-03T15:35:09.510764Z",
     "iopub.status.idle": "2022-08-03T15:35:11.094395Z",
     "shell.execute_reply": "2022-08-03T15:35:11.092723Z",
     "shell.execute_reply.started": "2022-08-03T15:35:09.511125Z"
    }
   },
   "outputs": [
    {
     "data": {
      "image/png": "[encoded data removed]",
      "text/plain": [
       "<Figure size 432x288 with 1 Axes>"
      ]
     },
     "metadata": {},
     "output_type": "display_data"
    }
   ],
   "source": [
    "plt.pie(product_type['product_type_count'], labels = product_type['product_type_name'])\n",
    "plt.show()"
   ]
  },
  {
   "cell_type": "code",
   "execution_count": 37,
   "metadata": {
    "execution": {
     "iopub.execute_input": "2022-08-03T15:35:11.096728Z",
     "iopub.status.busy": "2022-08-03T15:35:11.096256Z",
     "iopub.status.idle": "2022-08-03T15:35:11.102977Z",
     "shell.execute_reply": "2022-08-03T15:35:11.102312Z",
     "shell.execute_reply.started": "2022-08-03T15:35:11.096692Z"
    }
   },
   "outputs": [
    {
     "data": {
      "text/plain": [
       "0.40639745314661463"
      ]
     },
     "execution_count": 37,
     "metadata": {},
     "output_type": "execute_result"
    }
   ],
   "source": [
    "sum(product_type.head(5).product_type_count) / sum(product_type.product_type_count)"
   ]
  },
  {
   "cell_type": "code",
   "execution_count": 38,
   "metadata": {
    "execution": {
     "iopub.execute_input": "2022-08-03T15:35:11.104837Z",
     "iopub.status.busy": "2022-08-03T15:35:11.104253Z",
     "iopub.status.idle": "2022-08-03T15:35:11.119390Z",
     "shell.execute_reply": "2022-08-03T15:35:11.118388Z",
     "shell.execute_reply.started": "2022-08-03T15:35:11.104804Z"
    }
   },
   "outputs": [
    {
     "data": {
      "text/plain": [
       "0.40639745314661463"
      ]
     },
     "execution_count": 38,
     "metadata": {},
     "output_type": "execute_result"
    }
   ],
   "source": [
    "# calculate the percentage of top 5 in all the articles\n",
    "\n",
    "product_type[product_type['product_type_name'].isin(['Top','T-shirt','Sweater','Dress','Trousers'])]['product_type_count'].sum() / product_type['product_type_count'].sum()"
   ]
  },
  {
   "cell_type": "markdown",
   "metadata": {
    "execution": {
     "iopub.execute_input": "2022-05-20T22:53:51.219557Z",
     "iopub.status.busy": "2022-05-20T22:53:51.219181Z",
     "iopub.status.idle": "2022-05-20T22:53:51.227104Z",
     "shell.execute_reply": "2022-05-20T22:53:51.225024Z",
     "shell.execute_reply.started": "2022-05-20T22:53:51.219507Z"
    }
   },
   "source": [
    "\n",
    "<font size=\"5\">\n",
    "Trouser Dress Sweater T-shirt Top Blouse is highly skewed Since they take up more than 40% of articles in H&M\n",
    "</font>\n"
   ]
  },
  {
   "cell_type": "markdown",
   "metadata": {},
   "source": [
    "<font size=\"4\">\n",
    "I was exploring what type of articles do we have. And I found that that top 5 most provided type,'Top','T-shirt','Sweater','Dress','Trousers' takes up 40% of the articles sound at H&M. That's crazy! I was expecting it will be more even distribution among all the product type. \n",
    "</font>"
   ]
  },
  {
   "cell_type": "code",
   "execution_count": 39,
   "metadata": {
    "execution": {
     "iopub.execute_input": "2022-08-03T15:35:11.121729Z",
     "iopub.status.busy": "2022-08-03T15:35:11.121169Z",
     "iopub.status.idle": "2022-08-03T15:35:11.153754Z",
     "shell.execute_reply": "2022-08-03T15:35:11.152746Z",
     "shell.execute_reply.started": "2022-08-03T15:35:11.121681Z"
    }
   },
   "outputs": [
    {
     "data": {
      "text/html": [
       "<div>\n",
       "<style scoped>\n",
       "    .dataframe tbody tr th:only-of-type {\n",
       "        vertical-align: middle;\n",
       "    }\n",
       "\n",
       "    .dataframe tbody tr th {\n",
       "        vertical-align: top;\n",
       "    }\n",
       "\n",
       "    .dataframe thead th {\n",
       "        text-align: right;\n",
       "    }\n",
       "</style>\n",
       "<table border=\"1\" class=\"dataframe\">\n",
       "  <thead>\n",
       "    <tr style=\"text-align: right;\">\n",
       "      <th></th>\n",
       "      <th>product_group_name</th>\n",
       "      <th>count</th>\n",
       "    </tr>\n",
       "  </thead>\n",
       "  <tbody>\n",
       "    <tr>\n",
       "      <th>0</th>\n",
       "      <td>Garment Upper body</td>\n",
       "      <td>42741</td>\n",
       "    </tr>\n",
       "    <tr>\n",
       "      <th>1</th>\n",
       "      <td>Garment Lower body</td>\n",
       "      <td>19812</td>\n",
       "    </tr>\n",
       "    <tr>\n",
       "      <th>2</th>\n",
       "      <td>Garment Full body</td>\n",
       "      <td>13292</td>\n",
       "    </tr>\n",
       "    <tr>\n",
       "      <th>3</th>\n",
       "      <td>Accessories</td>\n",
       "      <td>11158</td>\n",
       "    </tr>\n",
       "    <tr>\n",
       "      <th>4</th>\n",
       "      <td>Underwear</td>\n",
       "      <td>5490</td>\n",
       "    </tr>\n",
       "    <tr>\n",
       "      <th>5</th>\n",
       "      <td>Shoes</td>\n",
       "      <td>5283</td>\n",
       "    </tr>\n",
       "    <tr>\n",
       "      <th>6</th>\n",
       "      <td>Swimwear</td>\n",
       "      <td>3127</td>\n",
       "    </tr>\n",
       "    <tr>\n",
       "      <th>7</th>\n",
       "      <td>Socks &amp; Tights</td>\n",
       "      <td>2442</td>\n",
       "    </tr>\n",
       "    <tr>\n",
       "      <th>8</th>\n",
       "      <td>Nightwear</td>\n",
       "      <td>1899</td>\n",
       "    </tr>\n",
       "    <tr>\n",
       "      <th>9</th>\n",
       "      <td>Unknown</td>\n",
       "      <td>121</td>\n",
       "    </tr>\n",
       "    <tr>\n",
       "      <th>10</th>\n",
       "      <td>Underwear/nightwear</td>\n",
       "      <td>54</td>\n",
       "    </tr>\n",
       "    <tr>\n",
       "      <th>11</th>\n",
       "      <td>Cosmetic</td>\n",
       "      <td>49</td>\n",
       "    </tr>\n",
       "    <tr>\n",
       "      <th>12</th>\n",
       "      <td>Bags</td>\n",
       "      <td>25</td>\n",
       "    </tr>\n",
       "    <tr>\n",
       "      <th>13</th>\n",
       "      <td>Items</td>\n",
       "      <td>17</td>\n",
       "    </tr>\n",
       "    <tr>\n",
       "      <th>14</th>\n",
       "      <td>Furniture</td>\n",
       "      <td>13</td>\n",
       "    </tr>\n",
       "    <tr>\n",
       "      <th>15</th>\n",
       "      <td>Garment and Shoe care</td>\n",
       "      <td>9</td>\n",
       "    </tr>\n",
       "    <tr>\n",
       "      <th>16</th>\n",
       "      <td>Stationery</td>\n",
       "      <td>5</td>\n",
       "    </tr>\n",
       "    <tr>\n",
       "      <th>17</th>\n",
       "      <td>Interior textile</td>\n",
       "      <td>3</td>\n",
       "    </tr>\n",
       "    <tr>\n",
       "      <th>18</th>\n",
       "      <td>Fun</td>\n",
       "      <td>2</td>\n",
       "    </tr>\n",
       "  </tbody>\n",
       "</table>\n",
       "</div>"
      ],
      "text/plain": [
       "       product_group_name  count\n",
       "0      Garment Upper body  42741\n",
       "1      Garment Lower body  19812\n",
       "2       Garment Full body  13292\n",
       "3             Accessories  11158\n",
       "4               Underwear   5490\n",
       "5                   Shoes   5283\n",
       "6                Swimwear   3127\n",
       "7          Socks & Tights   2442\n",
       "8               Nightwear   1899\n",
       "9                 Unknown    121\n",
       "10    Underwear/nightwear     54\n",
       "11               Cosmetic     49\n",
       "12                   Bags     25\n",
       "13                  Items     17\n",
       "14              Furniture     13\n",
       "15  Garment and Shoe care      9\n",
       "16             Stationery      5\n",
       "17       Interior textile      3\n",
       "18                    Fun      2"
      ]
     },
     "execution_count": 39,
     "metadata": {},
     "output_type": "execute_result"
    }
   ],
   "source": [
    "product_group = pd.DataFrame(articles[['article_id','product_group_name']].groupby('product_group_name')['article_id'].count().sort_values(ascending=False))\n",
    "product_group = product_group.reset_index()\n",
    "product_group.columns = ['product_group_name','count']\n",
    "product_group"
   ]
  },
  {
   "cell_type": "code",
   "execution_count": 40,
   "metadata": {
    "execution": {
     "iopub.execute_input": "2022-08-03T15:35:11.156010Z",
     "iopub.status.busy": "2022-08-03T15:35:11.155424Z",
     "iopub.status.idle": "2022-08-03T15:35:11.499951Z",
     "shell.execute_reply": "2022-08-03T15:35:11.499015Z",
     "shell.execute_reply.started": "2022-08-03T15:35:11.155960Z"
    }
   },
   "outputs": [
    {
     "data": {
      "image/png": "[encoded data removed]",
      "text/plain": [
       "<Figure size 432x288 with 1 Axes>"
      ]
     },
     "metadata": {
      "needs_background": "light"
     },
     "output_type": "display_data"
    }
   ],
   "source": [
    "fig = plt.figure()\n",
    "ax = fig.add_axes([0,0,1,1])\n",
    "ax.bar(product_group['product_group_name'],product_group['count'])\n",
    "plt.xticks(rotation='vertical')\n",
    "plt.show()"
   ]
  },
  {
   "cell_type": "code",
   "execution_count": 41,
   "metadata": {
    "execution": {
     "iopub.execute_input": "2022-08-03T15:35:11.502302Z",
     "iopub.status.busy": "2022-08-03T15:35:11.501746Z",
     "iopub.status.idle": "2022-08-03T15:35:11.812760Z",
     "shell.execute_reply": "2022-08-03T15:35:11.811844Z",
     "shell.execute_reply.started": "2022-08-03T15:35:11.502254Z"
    }
   },
   "outputs": [
    {
     "data": {
      "image/png": "[encoded data removed]",
      "text/plain": [
       "<Figure size 432x288 with 1 Axes>"
      ]
     },
     "metadata": {},
     "output_type": "display_data"
    }
   ],
   "source": [
    "plt.pie(product_group['count'], labels = product_group['product_group_name'])\n",
    "plt.show()"
   ]
  },
  {
   "cell_type": "markdown",
   "metadata": {},
   "source": [
    "\n",
    "So far we have looked at data from 1 dimension. Now lets increase the dimension and explore more!"
   ]
  },
  {
   "cell_type": "code",
   "execution_count": 42,
   "metadata": {
    "execution": {
     "iopub.execute_input": "2022-08-03T15:35:11.814745Z",
     "iopub.status.busy": "2022-08-03T15:35:11.814184Z",
     "iopub.status.idle": "2022-08-03T15:35:11.850214Z",
     "shell.execute_reply": "2022-08-03T15:35:11.849449Z",
     "shell.execute_reply.started": "2022-08-03T15:35:11.814709Z"
    }
   },
   "outputs": [
    {
     "data": {
      "text/plain": [
       "product_group_name  index_name                    \n",
       "Items               Menswear                              1\n",
       "Bags                Ladies Accessories                    1\n",
       "Unknown             Children Accessories, Swimwear        1\n",
       "Garment Upper body  Lingeries/Tights                      2\n",
       "Unknown             Children Sizes 134-170                2\n",
       "                                                      ...  \n",
       "Garment Full body   Ladieswear                         5599\n",
       "Garment Lower body  Ladieswear                         5701\n",
       "Garment Upper body  Menswear                           6855\n",
       "                    Divided                            6999\n",
       "                    Ladieswear                        14095\n",
       "Name: article_id, Length: 99, dtype: int64"
      ]
     },
     "execution_count": 42,
     "metadata": {},
     "output_type": "execute_result"
    }
   ],
   "source": [
    "articles.groupby(['product_group_name','index_name'])['article_id'].count().sort_values()"
   ]
  },
  {
   "cell_type": "code",
   "execution_count": 43,
   "metadata": {
    "execution": {
     "iopub.execute_input": "2022-08-03T15:35:11.852096Z",
     "iopub.status.busy": "2022-08-03T15:35:11.851617Z",
     "iopub.status.idle": "2022-08-03T15:35:12.719705Z",
     "shell.execute_reply": "2022-08-03T15:35:12.718585Z",
     "shell.execute_reply.started": "2022-08-03T15:35:11.852059Z"
    }
   },
   "outputs": [
    {
     "data": {
      "image/png": "[encoded data removed]",
      "text/plain": [
       "<Figure size 1080x504 with 1 Axes>"
      ]
     },
     "metadata": {
      "needs_background": "light"
     },
     "output_type": "display_data"
    }
   ],
   "source": [
    "f, ax = plt.subplots(figsize=(15, 7))\n",
    "ax = sns.histplot(data=articles, y='product_group_name', color='orange', hue='index_group_name', multiple=\"stack\")\n",
    "ax.set_xlabel('count by garment group')\n",
    "ax.set_ylabel('garment group')\n",
    "plt.show()"
   ]
  },
  {
   "cell_type": "markdown",
   "metadata": {},
   "source": [
    "### I definitley notice *lady and children* is dominating almost all the garment group. "
   ]
  },
  {
   "cell_type": "code",
   "execution_count": 44,
   "metadata": {
    "execution": {
     "iopub.execute_input": "2022-08-03T15:35:12.721564Z",
     "iopub.status.busy": "2022-08-03T15:35:12.721202Z",
     "iopub.status.idle": "2022-08-03T15:35:12.836104Z",
     "shell.execute_reply": "2022-08-03T15:35:12.834947Z",
     "shell.execute_reply.started": "2022-08-03T15:35:12.721494Z"
    }
   },
   "outputs": [
    {
     "data": {
      "text/plain": [
       "index_group_name  index_name                    \n",
       "Baby/Children     Baby Sizes 50-98                   8875\n",
       "                  Children Accessories, Swimwear     4615\n",
       "                  Children Sizes 134-170             9214\n",
       "                  Children Sizes 92-140             12007\n",
       "Divided           Divided                           15149\n",
       "Ladieswear        Ladies Accessories                 6961\n",
       "                  Ladieswear                        26001\n",
       "                  Lingeries/Tights                   6775\n",
       "Menswear          Menswear                          12553\n",
       "Sport             Sport                              3392\n",
       "Name: article_id, dtype: int64"
      ]
     },
     "execution_count": 44,
     "metadata": {},
     "output_type": "execute_result"
    }
   ],
   "source": [
    "articles.groupby(['index_group_name','index_name']).count()['article_id']"
   ]
  },
  {
   "cell_type": "code",
   "execution_count": 45,
   "metadata": {
    "execution": {
     "iopub.execute_input": "2022-08-03T15:35:12.837871Z",
     "iopub.status.busy": "2022-08-03T15:35:12.837530Z",
     "iopub.status.idle": "2022-08-03T15:35:13.517883Z",
     "shell.execute_reply": "2022-08-03T15:35:13.516994Z",
     "shell.execute_reply.started": "2022-08-03T15:35:12.837823Z"
    }
   },
   "outputs": [
    {
     "data": {
      "image/png": "[encoded data removed]",
      "text/plain": [
       "<Figure size 1080x504 with 1 Axes>"
      ]
     },
     "metadata": {
      "needs_background": "light"
     },
     "output_type": "display_data"
    }
   ],
   "source": [
    "f, ax = plt.subplots(figsize=(15, 7))\n",
    "ax = sns.histplot(data=articles, y='index_name', color='orange', hue='index_group_name', multiple=\"stack\")\n",
    "ax.set_xlabel('count by index_name')\n",
    "ax.set_ylabel('index_name')\n",
    "plt.show()"
   ]
  },
  {
   "cell_type": "code",
   "execution_count": 46,
   "metadata": {
    "execution": {
     "iopub.execute_input": "2022-08-03T15:35:13.519578Z",
     "iopub.status.busy": "2022-08-03T15:35:13.519340Z",
     "iopub.status.idle": "2022-08-03T15:35:13.644575Z",
     "shell.execute_reply": "2022-08-03T15:35:13.643551Z",
     "shell.execute_reply.started": "2022-08-03T15:35:13.519546Z"
    }
   },
   "outputs": [
    {
     "data": {
      "text/plain": [
       "product_group_name     product_type_name         index_group_name\n",
       "Accessories            Accessories set           Baby/Children          7\n",
       "                       Alice band                Baby/Children          1\n",
       "                                                 Ladieswear             5\n",
       "                       Baby Bib                  Baby/Children          3\n",
       "                       Bag                       Baby/Children        135\n",
       "                                                 Divided              351\n",
       "                                                 Ladieswear           621\n",
       "                                                 Menswear             130\n",
       "                                                 Sport                 43\n",
       "                       Beanie                    Baby/Children         32\n",
       "                                                 Divided                6\n",
       "                                                 Ladieswear             1\n",
       "                                                 Menswear              17\n",
       "                       Belt                      Baby/Children         28\n",
       "                                                 Divided               51\n",
       "                                                 Ladieswear           286\n",
       "                                                 Menswear              93\n",
       "                       Bracelet                  Baby/Children          7\n",
       "                                                 Divided                4\n",
       "                                                 Ladieswear            79\n",
       "                                                 Menswear              90\n",
       "                       Braces                    Menswear               3\n",
       "                       Bucket hat                Baby/Children          2\n",
       "                                                 Divided                1\n",
       "                                                 Menswear               4\n",
       "                       Cap                       Baby/Children          7\n",
       "                                                 Divided                1\n",
       "                                                 Menswear               5\n",
       "                       Cap/peaked                Baby/Children        321\n",
       "                                                 Divided               51\n",
       "                                                 Ladieswear            31\n",
       "                                                 Menswear             140\n",
       "                                                 Sport                 30\n",
       "                       Dog Wear                  Ladieswear            20\n",
       "                       Earring                   Divided               57\n",
       "                                                 Ladieswear          1095\n",
       "                                                 Menswear               7\n",
       "                       Earrings                  Ladieswear            11\n",
       "                       Eyeglasses                Menswear               2\n",
       "                       Felt hat                  Divided                1\n",
       "                                                 Ladieswear             2\n",
       "                                                 Menswear               7\n",
       "                       Giftbox                   Baby/Children         12\n",
       "                                                 Divided                1\n",
       "                                                 Menswear               1\n",
       "                                                 Sport                  1\n",
       "                       Gloves                    Baby/Children        235\n",
       "                                                 Divided               18\n",
       "                                                 Ladieswear            51\n",
       "                                                 Menswear              55\n",
       "                                                 Sport                  8\n",
       "                       Hair clip                 Baby/Children         81\n",
       "                                                 Divided                8\n",
       "                                                 Ladieswear           155\n",
       "                       Hair string               Baby/Children         85\n",
       "                                                 Divided               43\n",
       "                                                 Ladieswear           101\n",
       "                                                 Sport                  9\n",
       "                       Hair ties                 Baby/Children          1\n",
       "                                                 Divided                2\n",
       "                                                 Ladieswear            21\n",
       "                       Hair/alice band           Baby/Children        273\n",
       "                                                 Divided              127\n",
       "                                                 Ladieswear           454\n",
       "                       Hairband                  Ladieswear             2\n",
       "                       Hat/beanie                Baby/Children        761\n",
       "                                                 Divided              188\n",
       "                                                 Ladieswear           198\n",
       "                                                 Menswear             174\n",
       "                                                 Sport                 28\n",
       "                       Hat/brim                  Baby/Children        204\n",
       "                                                 Divided               47\n",
       "                                                 Ladieswear            84\n",
       "                                                 Menswear              61\n",
       "                       Headband                  Ladieswear             1\n",
       "                       Necklace                  Baby/Children         33\n",
       "                                                 Divided               36\n",
       "                                                 Ladieswear           461\n",
       "                                                 Menswear              51\n",
       "                       Other accessories         Baby/Children        232\n",
       "                                                 Divided              221\n",
       "                                                 Ladieswear           493\n",
       "                                                 Menswear              60\n",
       "                                                 Sport                 28\n",
       "                       Ring                      Baby/Children          2\n",
       "                                                 Divided                4\n",
       "                                                 Ladieswear           200\n",
       "                                                 Menswear              34\n",
       "                       Scarf                     Baby/Children        277\n",
       "                                                 Divided              143\n",
       "                                                 Ladieswear           441\n",
       "                                                 Menswear             150\n",
       "                                                 Sport                  2\n",
       "                       Soft Toys                 Baby/Children         46\n",
       "                       Straw hat                 Baby/Children          1\n",
       "                                                 Divided                4\n",
       "                                                 Menswear               1\n",
       "                       Sunglasses                Baby/Children        108\n",
       "                                                 Divided               71\n",
       "                                                 Ladieswear           273\n",
       "                                                 Menswear             169\n",
       "                       Tie                       Baby/Children         30\n",
       "                                                 Menswear             111\n",
       "                       Umbrella                  Divided                4\n",
       "                                                 Ladieswear            22\n",
       "                       Wallet                    Divided               20\n",
       "                                                 Ladieswear            44\n",
       "                                                 Menswear              13\n",
       "                       Watch                     Ladieswear            59\n",
       "                                                 Menswear              14\n",
       "                       Waterbottle               Baby/Children          3\n",
       "                                                 Divided                3\n",
       "                                                 Sport                 16\n",
       "Bags                   Backpack                  Baby/Children          1\n",
       "                                                 Divided                4\n",
       "                                                 Menswear               1\n",
       "                       Bumbag                    Baby/Children          1\n",
       "                       Cross-body bag            Divided                2\n",
       "                                                 Ladieswear             1\n",
       "                                                 Menswear               2\n",
       "                       Shoulder bag              Divided                2\n",
       "                       Tote bag                  Divided                2\n",
       "                       Weekend/Gym bag           Divided                5\n",
       "                                                 Menswear               4\n",
       "Cosmetic               Chem. cosmetics           Baby/Children          3\n",
       "                       Fine cosmetics            Baby/Children         46\n",
       "Fun                    Toy                       Baby/Children          2\n",
       "Furniture              Side table                Ladieswear            13\n",
       "Garment Full body      Costumes                  Baby/Children         86\n",
       "                                                 Ladieswear             2\n",
       "                                                 Menswear               2\n",
       "                       Dress                     Baby/Children       2502\n",
       "                                                 Divided             2460\n",
       "                                                 Ladieswear          5400\n",
       "                       Dungarees                 Baby/Children        179\n",
       "                                                 Divided              112\n",
       "                                                 Ladieswear            16\n",
       "                                                 Menswear               2\n",
       "                       Garment Set               Baby/Children       1274\n",
       "                                                 Ladieswear            13\n",
       "                                                 Menswear               1\n",
       "                                                 Sport                 32\n",
       "                       Jumpsuit/Playsuit         Baby/Children        718\n",
       "                                                 Divided              253\n",
       "                                                 Ladieswear           170\n",
       "                                                 Menswear               6\n",
       "                       Outdoor overall           Baby/Children         64\n",
       "Garment Lower body     Leggings/Tights           Baby/Children       1053\n",
       "                                                 Divided              143\n",
       "                                                 Ladieswear           298\n",
       "                                                 Sport                384\n",
       "                       Outdoor trousers          Baby/Children         92\n",
       "                                                 Divided                1\n",
       "                                                 Ladieswear             4\n",
       "                                                 Sport                 33\n",
       "                       Shorts                    Baby/Children       1652\n",
       "                                                 Divided              552\n",
       "                                                 Ladieswear           736\n",
       "                                                 Menswear             708\n",
       "                                                 Sport                291\n",
       "                       Skirt                     Baby/Children        402\n",
       "                                                 Divided              876\n",
       "                                                 Ladieswear          1417\n",
       "                                                 Sport                  1\n",
       "                       Trousers                  Baby/Children       4172\n",
       "                                                 Divided             1610\n",
       "                                                 Ladieswear          3287\n",
       "                                                 Menswear            1756\n",
       "                                                 Sport                344\n",
       "Garment Upper body     Blazer                    Baby/Children         95\n",
       "                                                 Divided              100\n",
       "                                                 Ladieswear           630\n",
       "                                                 Menswear             285\n",
       "                       Blouse                    Baby/Children        442\n",
       "                                                 Divided              712\n",
       "                                                 Ladieswear          2825\n",
       "                       Bodysuit                  Baby/Children        665\n",
       "                                                 Divided               36\n",
       "                                                 Ladieswear           212\n",
       "                       Cardigan                  Baby/Children        646\n",
       "                                                 Divided              342\n",
       "                                                 Ladieswear           431\n",
       "                                                 Menswear             131\n",
       "                       Coat                      Baby/Children         19\n",
       "                                                 Divided               68\n",
       "                                                 Ladieswear           255\n",
       "                                                 Menswear             118\n",
       "                       Hoodie                    Baby/Children       1012\n",
       "                                                 Divided              360\n",
       "                                                 Ladieswear           196\n",
       "                                                 Menswear             575\n",
       "                                                 Sport                213\n",
       "                       Jacket                    Baby/Children       1514\n",
       "                                                 Divided              733\n",
       "                                                 Ladieswear           995\n",
       "                                                 Menswear             526\n",
       "                                                 Sport                172\n",
       "                       Outdoor Waistcoat         Baby/Children         98\n",
       "                                                 Divided               25\n",
       "                                                 Ladieswear            16\n",
       "                                                 Menswear               4\n",
       "                                                 Sport                 11\n",
       "                       Polo shirt                Baby/Children        114\n",
       "                                                 Divided                9\n",
       "                                                 Ladieswear             8\n",
       "                                                 Menswear             318\n",
       "                       Shirt                     Baby/Children        824\n",
       "                                                 Divided              489\n",
       "                                                 Ladieswear           642\n",
       "                                                 Menswear            1450\n",
       "                       Sweater                   Baby/Children       2863\n",
       "                                                 Divided             1774\n",
       "                                                 Ladieswear          2897\n",
       "                                                 Menswear            1650\n",
       "                                                 Sport                118\n",
       "                       T-shirt                   Baby/Children       3400\n",
       "                                                 Divided             1082\n",
       "                                                 Ladieswear          1408\n",
       "                                                 Menswear            1508\n",
       "                                                 Sport                506\n",
       "                       Tailored Waistcoat        Baby/Children         43\n",
       "                                                 Divided                2\n",
       "                                                 Ladieswear             1\n",
       "                                                 Menswear              25\n",
       "                                                 Sport                  2\n",
       "                       Top                       Baby/Children        819\n",
       "                                                 Divided              510\n",
       "                                                 Ladieswear          2493\n",
       "                                                 Menswear             117\n",
       "                                                 Sport                216\n",
       "                       Vest top                  Baby/Children        624\n",
       "                                                 Divided              757\n",
       "                                                 Ladieswear          1101\n",
       "                                                 Menswear             148\n",
       "                                                 Sport                361\n",
       "Garment and Shoe care  Clothing mist             Ladieswear             1\n",
       "                       Sewing kit                Ladieswear             1\n",
       "                       Stain remover spray       Ladieswear             2\n",
       "                       Washing bag               Ladieswear             1\n",
       "                       Wood balls                Ladieswear             1\n",
       "                       Zipper head               Ladieswear             3\n",
       "Interior textile       Blanket                   Baby/Children          1\n",
       "                       Cushion                   Baby/Children          1\n",
       "                       Towel                     Baby/Children          1\n",
       "Items                  Dog wear                  Ladieswear             7\n",
       "                       Keychain                  Menswear               1\n",
       "                       Mobile case               Ladieswear             4\n",
       "                       Umbrella                  Ladieswear             3\n",
       "                       Wireless earphone case    Ladieswear             2\n",
       "Nightwear              Night gown                Baby/Children         54\n",
       "                                                 Ladieswear           117\n",
       "                       Pyjama bottom             Baby/Children         11\n",
       "                                                 Ladieswear           149\n",
       "                                                 Menswear              60\n",
       "                       Pyjama jumpsuit/playsuit  Baby/Children        374\n",
       "                                                 Ladieswear            14\n",
       "                       Pyjama set                Baby/Children        680\n",
       "                                                 Ladieswear           383\n",
       "                                                 Menswear              57\n",
       "Shoes                  Ballerinas                Baby/Children        195\n",
       "                                                 Divided               18\n",
       "                                                 Ladieswear           159\n",
       "                       Bootie                    Baby/Children         26\n",
       "                                                 Ladieswear             4\n",
       "                                                 Menswear               1\n",
       "                       Boots                     Baby/Children        326\n",
       "                                                 Divided              110\n",
       "                                                 Ladieswear           485\n",
       "                                                 Menswear             107\n",
       "                       Flat shoe                 Baby/Children         14\n",
       "                                                 Divided               12\n",
       "                                                 Ladieswear           138\n",
       "                                                 Menswear               1\n",
       "                       Flat shoes                Ladieswear             1\n",
       "                                                 Menswear               9\n",
       "                       Flip flop                 Baby/Children         65\n",
       "                                                 Divided                7\n",
       "                                                 Ladieswear            28\n",
       "                                                 Menswear              25\n",
       "                       Heeled sandals            Ladieswear           202\n",
       "                       Heels                     Divided                2\n",
       "                                                 Ladieswear            20\n",
       "                       Moccasins                 Baby/Children          4\n",
       "                       Other shoe                Baby/Children        152\n",
       "                                                 Ladieswear            68\n",
       "                                                 Menswear             175\n",
       "                       Pre-walkers               Baby/Children          1\n",
       "                       Pumps                     Divided               17\n",
       "                                                 Ladieswear           171\n",
       "                       Sandals                   Baby/Children        361\n",
       "                                                 Divided               41\n",
       "                                                 Ladieswear           298\n",
       "                                                 Menswear              55\n",
       "                                                 Sport                  2\n",
       "                       Slippers                  Baby/Children        157\n",
       "                                                 Divided                1\n",
       "                                                 Ladieswear            68\n",
       "                                                 Menswear              23\n",
       "                       Sneakers                  Baby/Children        938\n",
       "                                                 Divided               67\n",
       "                                                 Ladieswear           340\n",
       "                                                 Menswear             276\n",
       "                       Wedge                     Divided                2\n",
       "                                                 Ladieswear           111\n",
       "Socks & Tights         Leg warmers               Baby/Children          7\n",
       "                       Socks                     Baby/Children        894\n",
       "                                                 Divided               88\n",
       "                                                 Ladieswear           402\n",
       "                                                 Menswear             362\n",
       "                                                 Sport                143\n",
       "                       Underwear Tights          Baby/Children        365\n",
       "                                                 Divided                5\n",
       "                                                 Ladieswear           176\n",
       "Stationery             Marker pen                Ladieswear             5\n",
       "Swimwear               Bikini top                Baby/Children          2\n",
       "                                                 Divided               27\n",
       "                                                 Ladieswear           795\n",
       "                                                 Sport                 26\n",
       "                       Sarong                    Baby/Children          3\n",
       "                                                 Ladieswear            61\n",
       "                                                 Sport                  2\n",
       "                       Swimsuit                  Baby/Children        288\n",
       "                                                 Divided               23\n",
       "                                                 Ladieswear           324\n",
       "                                                 Sport                 27\n",
       "                       Swimwear bottom           Baby/Children        293\n",
       "                                                 Divided               25\n",
       "                                                 Ladieswear           723\n",
       "                                                 Menswear             245\n",
       "                                                 Sport                 21\n",
       "                       Swimwear set              Baby/Children        182\n",
       "                                                 Divided                1\n",
       "                                                 Ladieswear             9\n",
       "                       Swimwear top              Baby/Children         50\n",
       "Underwear              Bra                       Divided               12\n",
       "                                                 Ladieswear          1901\n",
       "                                                 Menswear               3\n",
       "                                                 Sport                296\n",
       "                       Bra extender              Ladieswear             1\n",
       "                       Kids Underwear top        Baby/Children         96\n",
       "                       Long John                 Baby/Children         22\n",
       "                                                 Menswear               6\n",
       "                                                 Sport                  2\n",
       "                       Nipple covers             Ladieswear            19\n",
       "                       Robe                      Baby/Children         66\n",
       "                                                 Ladieswear            67\n",
       "                                                 Menswear               3\n",
       "                       Underdress                Ladieswear            20\n",
       "                       Underwear body            Baby/Children          6\n",
       "                                                 Ladieswear           168\n",
       "                       Underwear bottom          Baby/Children        652\n",
       "                                                 Divided              157\n",
       "                                                 Ladieswear          1539\n",
       "                                                 Menswear             387\n",
       "                                                 Sport                 13\n",
       "                       Underwear corset          Ladieswear             7\n",
       "                       Underwear set             Baby/Children          9\n",
       "                                                 Divided               33\n",
       "                                                 Ladieswear             5\n",
       "Underwear/nightwear    Sleep Bag                 Baby/Children          6\n",
       "                       Sleeping sack             Baby/Children         48\n",
       "Unknown                Unknown                   Baby/Children          9\n",
       "                                                 Divided               17\n",
       "                                                 Ladieswear            56\n",
       "                                                 Menswear              28\n",
       "                                                 Sport                 11\n",
       "Name: article_id, dtype: int64"
      ]
     },
     "execution_count": 46,
     "metadata": {},
     "output_type": "execute_result"
    }
   ],
   "source": [
    "pd.options.display.max_rows = None\n",
    "\n",
    "articles.groupby(['product_group_name', 'product_type_name','index_group_name']).count()['article_id']\n",
    "#.get(\"Accessories\").sort_values()"
   ]
  },
  {
   "cell_type": "markdown",
   "metadata": {},
   "source": [
    "Since now we have some understanding of Articles, aka most of the stuff are for female and children. \n",
    "\n",
    "we can give a look at Customers and check if there is any interesting finding!"
   ]
  },
  {
   "cell_type": "code",
   "execution_count": 47,
   "metadata": {
    "execution": {
     "iopub.execute_input": "2022-08-03T15:35:13.646752Z",
     "iopub.status.busy": "2022-08-03T15:35:13.646365Z",
     "iopub.status.idle": "2022-08-03T15:35:13.933447Z",
     "shell.execute_reply": "2022-08-03T15:35:13.932337Z",
     "shell.execute_reply.started": "2022-08-03T15:35:13.646705Z"
    }
   },
   "outputs": [
    {
     "data": {
      "text/plain": [
       "customer_id               0.000000\n",
       "FN                        0.652378\n",
       "Active                    0.661508\n",
       "club_member_status        0.004418\n",
       "fashion_news_frequency    0.011669\n",
       "age                       0.011561\n",
       "postal_code               0.000000\n",
       "dtype: float64"
      ]
     },
     "execution_count": 47,
     "metadata": {},
     "output_type": "execute_result"
    }
   ],
   "source": [
    "# missing data percentage\n",
    "customers.isna().sum() / customers.shape[0]"
   ]
  },
  {
   "cell_type": "code",
   "execution_count": 48,
   "metadata": {
    "execution": {
     "iopub.execute_input": "2022-08-03T15:35:13.935890Z",
     "iopub.status.busy": "2022-08-03T15:35:13.934881Z",
     "iopub.status.idle": "2022-08-03T15:35:14.324959Z",
     "shell.execute_reply": "2022-08-03T15:35:14.324102Z",
     "shell.execute_reply.started": "2022-08-03T15:35:13.935831Z"
    }
   },
   "outputs": [],
   "source": [
    "# since its hard to know what age just base on this, we may omit and try guess their age base on what they buy ?\n",
    "\n",
    "age_na_cus = customers.age.isna()\n",
    "\n",
    "# kept the one that has age \n",
    "\n",
    "customers_age = customers[age_na_cus.apply(lambda x : not x)]"
   ]
  },
  {
   "cell_type": "markdown",
   "metadata": {
    "execution": {
     "iopub.execute_input": "2022-05-20T22:55:09.642749Z",
     "iopub.status.busy": "2022-05-20T22:55:09.64236Z",
     "iopub.status.idle": "2022-05-20T22:55:09.648519Z",
     "shell.execute_reply": "2022-05-20T22:55:09.647469Z",
     "shell.execute_reply.started": "2022-05-20T22:55:09.642709Z"
    }
   },
   "source": [
    "lets check out the distribution of age."
   ]
  },
  {
   "cell_type": "code",
   "execution_count": 49,
   "metadata": {
    "execution": {
     "iopub.execute_input": "2022-08-03T15:35:14.326522Z",
     "iopub.status.busy": "2022-08-03T15:35:14.326281Z",
     "iopub.status.idle": "2022-08-03T15:35:15.154770Z",
     "shell.execute_reply": "2022-08-03T15:35:15.153837Z",
     "shell.execute_reply.started": "2022-08-03T15:35:14.326477Z"
    }
   },
   "outputs": [],
   "source": [
    "customers_age = customers_age.sort_values(by='age',ascending=False)"
   ]
  },
  {
   "cell_type": "code",
   "execution_count": 51,
   "metadata": {
    "execution": {
     "iopub.execute_input": "2022-08-03T15:35:15.156105Z",
     "iopub.status.busy": "2022-08-03T15:35:15.155884Z"
    },
    "scrolled": true
   },
   "outputs": [
    {
     "data": {
      "text/html": [
       "<div>\n",
       "<style scoped>\n",
       "    .dataframe tbody tr th:only-of-type {\n",
       "        vertical-align: middle;\n",
       "    }\n",
       "\n",
       "    .dataframe tbody tr th {\n",
       "        vertical-align: top;\n",
       "    }\n",
       "\n",
       "    .dataframe thead th {\n",
       "        text-align: right;\n",
       "    }\n",
       "</style>\n",
       "<table border=\"1\" class=\"dataframe\">\n",
       "  <thead>\n",
       "    <tr style=\"text-align: right;\">\n",
       "      <th></th>\n",
       "      <th>customer_id</th>\n",
       "      <th>FN</th>\n",
       "      <th>Active</th>\n",
       "      <th>club_member_status</th>\n",
       "      <th>fashion_news_frequency</th>\n",
       "      <th>age</th>\n",
       "      <th>postal_code</th>\n",
       "    </tr>\n",
       "  </thead>\n",
       "  <tbody>\n",
       "    <tr>\n",
       "      <th>1278960</th>\n",
       "      <td>eeaeb36eecef27871a0fe587858906e5f28d43872f6a4a...</td>\n",
       "      <td>1.0</td>\n",
       "      <td>1.0</td>\n",
       "      <td>ACTIVE</td>\n",
       "      <td>Regularly</td>\n",
       "      <td>99.0</td>\n",
       "      <td>2c29ae653a9282cce4151bd87643c907644e09541abc28...</td>\n",
       "    </tr>\n",
       "    <tr>\n",
       "      <th>307448</th>\n",
       "      <td>39719241efb3559eca60886d58f0fe01cbf8d5efea0e25...</td>\n",
       "      <td>1.0</td>\n",
       "      <td>1.0</td>\n",
       "      <td>ACTIVE</td>\n",
       "      <td>Regularly</td>\n",
       "      <td>99.0</td>\n",
       "      <td>2c29ae653a9282cce4151bd87643c907644e09541abc28...</td>\n",
       "    </tr>\n",
       "    <tr>\n",
       "      <th>1246886</th>\n",
       "      <td>e8b2a7bf44f42e808d58299c53e6e1ad47178d7d457f82...</td>\n",
       "      <td>NaN</td>\n",
       "      <td>NaN</td>\n",
       "      <td>ACTIVE</td>\n",
       "      <td>NONE</td>\n",
       "      <td>99.0</td>\n",
       "      <td>cc02109b1630ec7235ba6f5d61f07c1473b0b9d637ae7c...</td>\n",
       "    </tr>\n",
       "  </tbody>\n",
       "</table>\n",
       "</div>"
      ],
      "text/plain": [
       "                                               customer_id   FN  Active  \\\n",
       "1278960  eeaeb36eecef27871a0fe587858906e5f28d43872f6a4a...  1.0     1.0   \n",
       "307448   39719241efb3559eca60886d58f0fe01cbf8d5efea0e25...  1.0     1.0   \n",
       "1246886  e8b2a7bf44f42e808d58299c53e6e1ad47178d7d457f82...  NaN     NaN   \n",
       "\n",
       "        club_member_status fashion_news_frequency   age  \\\n",
       "1278960             ACTIVE              Regularly  99.0   \n",
       "307448              ACTIVE              Regularly  99.0   \n",
       "1246886             ACTIVE                   NONE  99.0   \n",
       "\n",
       "                                               postal_code  \n",
       "1278960  2c29ae653a9282cce4151bd87643c907644e09541abc28...  \n",
       "307448   2c29ae653a9282cce4151bd87643c907644e09541abc28...  \n",
       "1246886  cc02109b1630ec7235ba6f5d61f07c1473b0b9d637ae7c...  "
      ]
     },
     "execution_count": 51,
     "metadata": {},
     "output_type": "execute_result"
    }
   ],
   "source": [
    "customers_age.head(3)"
   ]
  },
  {
   "cell_type": "code",
   "execution_count": 52,
   "metadata": {},
   "outputs": [
    {
     "data": {
      "text/plain": [
       "(1356119, 7)"
      ]
     },
     "execution_count": 52,
     "metadata": {},
     "output_type": "execute_result"
    }
   ],
   "source": [
    "customers_age.shape"
   ]
  },
  {
   "cell_type": "code",
   "execution_count": 53,
   "metadata": {},
   "outputs": [
    {
     "data": {
      "image/png": "[encoded data removed]",
      "text/plain": [
       "<Figure size 720x360 with 1 Axes>"
      ]
     },
     "metadata": {},
     "output_type": "display_data"
    }
   ],
   "source": [
    "sns.set_style(\"darkgrid\")\n",
    "f, ax = plt.subplots(figsize=(10,5))\n",
    "ax = sns.histplot(data=customers_age, x='age', bins=20, color='orange')\n",
    "ax.set_xlabel('Distribution of the customers age')\n",
    "plt.show()"
   ]
  },
  {
   "cell_type": "markdown",
   "metadata": {},
   "source": [
    "Not much for customer data besides their age, news, and club member status"
   ]
  },
  {
   "cell_type": "markdown",
   "metadata": {},
   "source": [
    "now i want to find out maybe how much the same customer spend by monthly in 2019/9/22 - 2020/9/22. "
   ]
  },
  {
   "cell_type": "code",
   "execution_count": 54,
   "metadata": {},
   "outputs": [],
   "source": [
    "transactions = transactions.sort_values(['customer_id'])"
   ]
  },
  {
   "cell_type": "code",
   "execution_count": null,
   "metadata": {},
   "outputs": [],
   "source": [
    "transactions.t_dat"
   ]
  },
  {
   "cell_type": "code",
   "execution_count": null,
   "metadata": {},
   "outputs": [],
   "source": [
    "transactions.describe()"
   ]
  },
  {
   "cell_type": "code",
   "execution_count": null,
   "metadata": {},
   "outputs": [],
   "source": [
    "sns.set_style(\"darkgrid\")\n",
    "f, ax = plt.subplots(figsize=(10,5))\n",
    "ax = sns.histplot(data=transactions, x='price', bins=100, color='orange')\n",
    "ax.set_xlabel('Distribution of the customer spending')\n",
    "plt.xlim([0,0.2])\n",
    "plt.show()"
   ]
  },
  {
   "cell_type": "code",
   "execution_count": null,
   "metadata": {},
   "outputs": [],
   "source": [
    "transactions.groupby('customer_id')"
   ]
  },
  {
   "cell_type": "code",
   "execution_count": null,
   "metadata": {},
   "outputs": [],
   "source": [
    "last_year_tran = transactions[transactions['t_dat'] >= '2019-09-22']"
   ]
  },
  {
   "cell_type": "code",
   "execution_count": null,
   "metadata": {},
   "outputs": [],
   "source": [
    "last_year_tran.t_dat = pd.to_datetime(last_year_tran.t_dat)"
   ]
  },
  {
   "cell_type": "code",
   "execution_count": null,
   "metadata": {
    "execution": {
     "iopub.status.idle": "2022-08-03T15:52:18.097670Z",
     "shell.execute_reply": "2022-08-03T15:52:18.096584Z",
     "shell.execute_reply.started": "2022-08-03T15:51:10.368062Z"
    }
   },
   "outputs": [],
   "source": [
    "last_year_tran['month'] = last_year_tran.t_dat.apply(lambda x : x.month)\n",
    "\n",
    "# import cudf\n",
    "# train = cudf.read_csv('../input/h-and-m-personalized-fashion-recommendations/transactions_train.csv')\n",
    "# train['customer_id'] = train['customer_id'].str[-16:].str.hex_to_int().astype('int64')\n",
    "# train['article_id'] = train.article_id.astype('int32')\n",
    "# train.t_dat = cudf.to_datetime(train.t_dat)\n",
    "# train = train[['t_dat','customer_id','article_id']]\n",
    "# train.to_parquet('train.pqt',index=False)\n",
    "# print( train.shape )\n",
    "# train.head()"
   ]
  },
  {
   "cell_type": "markdown",
   "metadata": {},
   "source": [
    "How many unique customer made purchase in 2022?"
   ]
  },
  {
   "cell_type": "code",
   "execution_count": null,
   "metadata": {
    "execution": {
     "iopub.execute_input": "2022-08-03T15:52:18.099922Z",
     "iopub.status.busy": "2022-08-03T15:52:18.099118Z",
     "iopub.status.idle": "2022-08-03T15:52:21.930400Z",
     "shell.execute_reply": "2022-08-03T15:52:21.929390Z",
     "shell.execute_reply.started": "2022-08-03T15:52:18.099884Z"
    }
   },
   "outputs": [],
   "source": [
    "last_year_tran['customer_id'].nunique()"
   ]
  },
  {
   "cell_type": "markdown",
   "metadata": {},
   "source": [
    "**<span style=\"color:#008000;\"> Let's see the general summary about the transaction</span>**"
   ]
  },
  {
   "cell_type": "markdown",
   "metadata": {},
   "source": [
    "So I want to see what is the totoal number of item from each customer for last year of transaction. "
   ]
  },
  {
   "cell_type": "code",
   "execution_count": null,
   "metadata": {
    "execution": {
     "iopub.execute_input": "2022-08-03T15:52:21.932724Z",
     "iopub.status.busy": "2022-08-03T15:52:21.931758Z",
     "iopub.status.idle": "2022-08-03T15:52:27.296981Z",
     "shell.execute_reply": "2022-08-03T15:52:27.296239Z",
     "shell.execute_reply.started": "2022-08-03T15:52:21.932673Z"
    }
   },
   "outputs": [],
   "source": [
    "cus_bought_count = pd.DataFrame(last_year_tran.groupby('customer_id')['article_id'].count().sort_values(ascending=False))"
   ]
  },
  {
   "cell_type": "code",
   "execution_count": null,
   "metadata": {
    "execution": {
     "iopub.execute_input": "2022-08-03T15:52:27.298693Z",
     "iopub.status.busy": "2022-08-03T15:52:27.298332Z"
    }
   },
   "outputs": [],
   "source": [
    "last_year_tran"
   ]
  },
  {
   "cell_type": "code",
   "execution_count": null,
   "metadata": {},
   "outputs": [],
   "source": [
    "cus_bought_count = cus_bought_count.reset_index()\n",
    "cus_bought_count.columns = ['customer_id','article_count']"
   ]
  },
  {
   "cell_type": "code",
   "execution_count": null,
   "metadata": {},
   "outputs": [],
   "source": [
    "cus_bought_count.describe()"
   ]
  },
  {
   "cell_type": "markdown",
   "metadata": {},
   "source": [
    "Since I noticed huge discrepency between people who are top 10% of customer and rest of 90%\n",
    "\n",
    "I may want to consider top 10 to be loyal customer as average of them purchase at least 2-3 item every month.\n",
    "\n",
    "while the rest of 90% make occasional purchases. "
   ]
  },
  {
   "cell_type": "code",
   "execution_count": null,
   "metadata": {},
   "outputs": [],
   "source": [
    "cus_bought_count[cus_bought_count['article_count'] >= 36]['article_count'].describe()"
   ]
  },
  {
   "cell_type": "code",
   "execution_count": null,
   "metadata": {},
   "outputs": [],
   "source": [
    "cus_bought_count[cus_bought_count['article_count'] < 36]['article_count'].describe()"
   ]
  },
  {
   "cell_type": "markdown",
   "metadata": {},
   "source": [
    "Now I have a business related question, top 10% customer is responsible for how much % of revenue in last year?\n"
   ]
  },
  {
   "cell_type": "code",
   "execution_count": null,
   "metadata": {},
   "outputs": [],
   "source": [
    "cus_spent = pd.DataFrame(last_year_tran.groupby('customer_id')['price'].sum().sort_values(ascending=False)).reset_index()"
   ]
  },
  {
   "cell_type": "code",
   "execution_count": null,
   "metadata": {},
   "outputs": [],
   "source": [
    "cus_spent.head(2)"
   ]
  },
  {
   "cell_type": "code",
   "execution_count": null,
   "metadata": {},
   "outputs": [],
   "source": [
    "top_10 = cus_bought_count[cus_bought_count['article_count'] >= 36]"
   ]
  },
  {
   "cell_type": "code",
   "execution_count": null,
   "metadata": {},
   "outputs": [],
   "source": [
    "top_10_count_spent = top_10.merge(cus_spent, how='left', left_on='customer_id',right_on='customer_id')"
   ]
  },
  {
   "cell_type": "code",
   "execution_count": null,
   "metadata": {},
   "outputs": [],
   "source": [
    "top_10_count_spent.sample(3)"
   ]
  },
  {
   "cell_type": "code",
   "execution_count": null,
   "metadata": {},
   "outputs": [],
   "source": [
    "top_10_count_spent.price.sum() / last_year_tran.price.sum()"
   ]
  },
  {
   "cell_type": "markdown",
   "metadata": {},
   "source": [
    "After some digging, I find out top 10% of the customer is responsible for 45% of sale in 2022.\n",
    "\n",
    "If I was the CEO, I will be really sure those 10% of cusotmer get best possible experience to maintain relationship with them. "
   ]
  },
  {
   "cell_type": "code",
   "execution_count": null,
   "metadata": {},
   "outputs": [],
   "source": [
    "plt.boxplot(cus_bought_count['article_count'])"
   ]
  },
  {
   "cell_type": "markdown",
   "metadata": {
    "execution": {
     "iopub.execute_input": "2022-05-23T19:55:15.960787Z",
     "iopub.status.busy": "2022-05-23T19:55:15.959555Z",
     "iopub.status.idle": "2022-05-23T19:55:17.803111Z",
     "shell.execute_reply": "2022-05-23T19:55:17.801896Z",
     "shell.execute_reply.started": "2022-05-23T19:55:15.960734Z"
    }
   },
   "source": [
    "Now I want to know what items have the customer bought throughout the entire year. Can be guess about their spending behavior and potentially age and gender?"
   ]
  },
  {
   "cell_type": "code",
   "execution_count": null,
   "metadata": {},
   "outputs": [],
   "source": [
    "#I will start with top 10% customers. Aka loyal customers.\n",
    "top_10.head(1)"
   ]
  },
  {
   "cell_type": "markdown",
   "metadata": {},
   "source": [
    "I am going to explore what has our \\#1 customer has bought for the last year, as this customer bought 1020 items in the last year. "
   ]
  },
  {
   "cell_type": "code",
   "execution_count": null,
   "metadata": {},
   "outputs": [],
   "source": [
    "number_1 = last_year_tran[last_year_tran['customer_id'] == top_10.head(1)['customer_id'].values[0]]"
   ]
  },
  {
   "cell_type": "code",
   "execution_count": null,
   "metadata": {},
   "outputs": [],
   "source": [
    "articles.head(3)\n"
   ]
  },
  {
   "cell_type": "code",
   "execution_count": null,
   "metadata": {},
   "outputs": [],
   "source": [
    "stuff_number1_bought = number_1.merge(articles, how = 'left', left_on = 'article_id', right_on = 'article_id')"
   ]
  },
  {
   "cell_type": "code",
   "execution_count": null,
   "metadata": {},
   "outputs": [],
   "source": [
    "articles['product_group_name'].head(2)"
   ]
  },
  {
   "cell_type": "code",
   "execution_count": null,
   "metadata": {},
   "outputs": [],
   "source": [
    "f, ax = plt.subplots(figsize=(15, 7))\n",
    "ax = sns.histplot(data=stuff_number1_bought, y='product_group_name', color='orange', hue='index_name', multiple=\"stack\")\n",
    "# ax.set_xlabel('count by garment group')\n",
    "# ax.set_ylabel('garment group')\n",
    "plt.show()"
   ]
  },
  {
   "cell_type": "markdown",
   "metadata": {},
   "source": [
    "From my understanding, Divided is also mainly female clothing. "
   ]
  },
  {
   "cell_type": "code",
   "execution_count": null,
   "metadata": {},
   "outputs": [],
   "source": [
    "customers.head(2)"
   ]
  },
  {
   "cell_type": "code",
   "execution_count": null,
   "metadata": {},
   "outputs": [],
   "source": [
    "stuff_number1_bought.head(3)"
   ]
  },
  {
   "cell_type": "code",
   "execution_count": null,
   "metadata": {},
   "outputs": [],
   "source": [
    "customers[customers['customer_id'] == top_10.head(1)['customer_id'].values[0]]"
   ]
  },
  {
   "cell_type": "code",
   "execution_count": null,
   "metadata": {},
   "outputs": [],
   "source": []
  },
  {
   "cell_type": "code",
   "execution_count": null,
   "metadata": {},
   "outputs": [],
   "source": []
  },
  {
   "cell_type": "code",
   "execution_count": null,
   "metadata": {},
   "outputs": [],
   "source": []
  },
  {
   "cell_type": "code",
   "execution_count": null,
   "metadata": {},
   "outputs": [],
   "source": []
  }
 ],
 "metadata": {
  "kernelspec": {
   "display_name": "Python 3 (ipykernel)",
   "language": "python",
   "name": "python3"
  },
  "language_info": {
   "codemirror_mode": {
    "name": "ipython",
    "version": 3
   },
   "file_extension": ".py",
   "mimetype": "text/x-python",
   "name": "python",
   "nbconvert_exporter": "python",
   "pygments_lexer": "ipython3",
   "version": "3.9.12"
  }
 },
 "nbformat": 4,
 "nbformat_minor": 4
}
